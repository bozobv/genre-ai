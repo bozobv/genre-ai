{
 "cells": [
  {
   "cell_type": "code",
   "execution_count": 12,
   "metadata": {},
   "outputs": [],
   "source": [
    "import numpy as np\n",
    "import pandas as pd\n",
    "from collections import Counter\n",
    "import ast\n",
    "\n",
    "import umap\n",
    "import numba\n",
    "from scipy.sparse import dok_matrix\n",
    "\n",
    "import seaborn as sns\n",
    "import matplotlib.pyplot as plt\n",
    "%matplotlib inline\n",
    "\n",
    "import glob\n",
    "import os\n",
    "import sys\n",
    "\n",
    "sys.path.append(\"../src\")\n",
    "sys.path.append(\"../../gutenberg/src\")\n",
    "from metaquery import meta_query\n",
    "from data_io import get_dict_words_counts"
   ]
  },
  {
   "cell_type": "markdown",
   "metadata": {},
   "source": [
    "### Using UMAP with a precomputed distance matrix\n",
    "This is the simple approach but computing and storing a $50k \\times 50k$ matrix is no joke.\n",
    "\n",
    "### Using UMAP with a custom distance function\n",
    "Here we let UMAP handle the distances efficiently. Instead we need to pass:\n",
    "+ a **sparse** samples-features matrix\n",
    "+ a numba-jitted custom distance function\n",
    "\n",
    "Our features are word types, so the only way to hold the samples-features matrix is with sparse matrices. "
   ]
  },
  {
   "cell_type": "code",
   "execution_count": 13,
   "metadata": {},
   "outputs": [],
   "source": [
    "def get_word2doc(paths):\n",
    "    \"\"\"\n",
    "    Create a words-to-documents sparse matrix.\n",
    "    \n",
    "    Input\n",
    "    -----\n",
    "    paths : list[str]\n",
    "        List of paths to count files\n",
    "        \n",
    "    Returns\n",
    "    -------\n",
    "    MM : scipy.sparse.csr_matrix\n",
    "        A csr sparse matrix with documents in rows and words in columns. \n",
    "        Entries are (relative) frequencies\n",
    "        \n",
    "    \"\"\"\n",
    "    !rm /tmp/PGtmp.txt\n",
    "    for path in paths:\n",
    "        ! cat {path} >> /tmp/PGtmp.txt\n",
    "\n",
    "    with open(\"/tmp/PGtmp.txt\",'r') as f:\n",
    "        x=f.readlines()\n",
    "    W = list(set([xx.split(\"\\t\")[0] for xx in x]))\n",
    "\n",
    "    M = dok_matrix((len(paths),len(W)))\n",
    "    # initialize map from words to integers\n",
    "    w_idx = {v:k for k,v in dict(enumerate(W)).items()}\n",
    "\n",
    "    for d, path in enumerate(paths):\n",
    "        w, f = get_w_f(path)\n",
    "\n",
    "        # add words to sparse matrix\n",
    "        for word,freq in zip(w, f):\n",
    "            M[d,w_idx[word]] = freq\n",
    "\n",
    "    return M.tocsr()"
   ]
  },
  {
   "cell_type": "code",
   "execution_count": 14,
   "metadata": {},
   "outputs": [],
   "source": [
    "@numba.njit()\n",
    "def D_alpha_max(H1,H2,pi1,pi2,alpha=1.0):\n",
    "    '''The maximum Jensen-Shanon-divergence of two probability distributions p1 and p2\n",
    "    with entropies H1 and H2 and weights pi1 and pi2.\n",
    "    The maximum jsd is obtained by assuming the support of both distributions is disjunct.\n",
    "    For more information see:\n",
    "    Gerlach, Font-Clos, Altmann, Phys. Rev. X 6 (2016) 021009\n",
    "    https://journals.aps.org/prx/abstract/10.1103/PhysRevX.6.021009\n",
    "\n",
    "    INPUT:\n",
    "    - H1, float, alpha-entropy of p1\n",
    "    - H2, float, alpha-entropy of p2\n",
    "    - pi1, float, weight given to p1\n",
    "    - pi2, float, weight given to p2\n",
    "    optional\n",
    "    - alpha, float (default:1.0)\n",
    "\n",
    "    OUTPUT:\n",
    "    - D_max, float - maximum JSD\n",
    "    '''\n",
    "    D_max = 0.0\n",
    "    if alpha == 1.0:\n",
    "        D_max = -pi1*np.log(pi1)-pi2*np.log(pi2)\n",
    "    else:\n",
    "        D_max = (pi1**alpha-pi1)*H1+\\\n",
    "                (pi2**alpha-pi2)*H2+\\\n",
    "                1.0/(1.0-alpha)*(pi1**alpha+pi2**alpha-1)\n",
    "    return D_max\n",
    "\n",
    "@numba.njit()\n",
    "def H_alpha_sparse_csr(arr_p,alpha=1.0):\n",
    "    '''Calculate generalized entropy of order-alpha\n",
    "        H_{\\alpha}(\\vec{p}) = \\frac{1}{1-\\alpha}( \\sum_i p_i^{\\alpha} - 1  )\n",
    "        https://en.wikipedia.org/wiki/Tsallis_entropy\n",
    "\n",
    "        INPUT:\n",
    "        - arr_p, array (normalized probability distribution)\n",
    "        optional\n",
    "        - alpha, float (default:1.0 == Boltzmann-Shannon-Gibbs entropy)\n",
    "        OUT:\n",
    "        - H_alpha, float\n",
    "\n",
    "        Note that we have to consider special cases \n",
    "        - alpha=0; if p_i=0: p_i^0=0 and p_i>0: p_i^0=1  \n",
    "        - alpha=1; H --> -\\sum_i p_i log(p_i) and 0*log(0) = 0\n",
    "    '''\n",
    "    ## consider only entries with p>0\n",
    "    arr_p_pos = arr_p\n",
    "    H = 0.0\n",
    "    if alpha == 0.0:\n",
    "        H = len(arr_p_pos) - 1\n",
    "    elif alpha == 1.0:\n",
    "        H = -np.sum(arr_p_pos*np.log(arr_p_pos))\n",
    "    else:\n",
    "        H = 1.0/(1.0-alpha)*(np.sum(arr_p_pos**alpha) - 1.0)\n",
    "    return H\n",
    "\n",
    "def D_alpha_sparse_csr(arr_p1,arr_p2,alpha=2.0,pi1=0.5,normalized=True):\n",
    "    '''\n",
    "    Generalized Jensen-Shannon divergence proposed in:\n",
    "        Gerlach, Font-Clos, Altmann, Phys. Rev. X 6 (2016) 021009\n",
    "        https://journals.aps.org/prx/abstract/10.1103/PhysRevX.6.021009\n",
    "\n",
    "    quantifying the divergence between probability distributions p1 and p2\n",
    "\n",
    "    INPUT:\n",
    "    - p1, array  \n",
    "    - p2, array\n",
    "    optional\n",
    "    - alpha, float (default:1)\n",
    "    - pi1, float (default:0.5); weight given to p1 (pi2 = 1-pi1)\n",
    "    - normalized (default:False); if True return normalized version of alpha-JSD\n",
    "\n",
    "    OUTPUT:\n",
    "    - JSD, float\n",
    "\n",
    "    Note that p1 and p2 have to be defined over the SAME support, i.e.\n",
    "    for any index i the probabilities p1[i] and p2[i] refer to the same symbol.\n",
    "    If, for example a symbol j only appears in p1, then p1[j]>0 and p2[j]=0 (and vice versa)\n",
    "    '''\n",
    "\n",
    "    pi2 = 1.0-pi1\n",
    "\n",
    "    H_1 = H_alpha_sparse_csr(arr_p1.data,alpha=alpha)\n",
    "    H_2 = H_alpha_sparse_csr(arr_p2.data,alpha=alpha)\n",
    "    arr_p12 = pi1*arr_p1 + pi2*arr_p2\n",
    "    H_12 = H_alpha_sparse_csr(arr_p12.data,alpha=alpha)\n",
    "\n",
    "    D = H_12 - pi1*H_1 - pi2*H_2\n",
    "\n",
    "    if normalized == False:\n",
    "        norm = 1.0\n",
    "    else:\n",
    "        norm = D_alpha_max(H_1,H_2,pi1,pi2,alpha=alpha)\n",
    "    D /= norm\n",
    "    return D"
   ]
  },
  {
   "cell_type": "code",
   "execution_count": 15,
   "metadata": {},
   "outputs": [],
   "source": [
    "def get_w_f(path_to_counts):\n",
    "    \"\"\"\n",
    "    Reads a counts file, returns types and frequencies\n",
    "    \"\"\"\n",
    "    w_c_dict = get_dict_words_counts(path_to_counts)\n",
    "    if len(w_c_dict)==0:\n",
    "        return [],[]\n",
    "    w, c = np.array(list(w_c_dict.items())).T\n",
    "    c = c.astype(int)\n",
    "    L = np.sum(c)\n",
    "    if not isinstance(w,(list,np.ndarray)):\n",
    "        w=[w]\n",
    "        c=[c]\n",
    "    return w, c/L\n"
   ]
  },
  {
   "cell_type": "markdown",
   "metadata": {},
   "source": [
    "### Best tag definition\n",
    "We don't like overlapping labels. One possible solution is to reduce to the most popular tag of each book."
   ]
  },
  {
   "cell_type": "code",
   "execution_count": 16,
   "metadata": {},
   "outputs": [],
   "source": [
    "meta = meta_query(path=\"../../gutenberg/metadata/metadata.csv\")\n",
    "tags = meta.df.subjects.replace(\"set()\",np.nan).dropna().apply(lambda x:ast.literal_eval(x))\n",
    "subject_counts = meta.get_subjects_counts()\n",
    "meta.df[\"best_tag\"] = tags.apply(lambda x:sorted([[subject_counts[s], s] for s in x])[-1][1])\n",
    "meta.df = meta.df.loc[meta.df.best_tag.dropna().index]\n",
    "meta.df = meta.df.loc[meta.df.best_tag.apply(lambda x:len(x)>0)]\n",
    "meta.df_original = meta.df.copy()"
   ]
  },
  {
   "cell_type": "markdown",
   "metadata": {},
   "source": [
    "Here we choose a few subject. We skip the most popular ones as they are too common."
   ]
  },
  {
   "cell_type": "code",
   "execution_count": 17,
   "metadata": {},
   "outputs": [],
   "source": [
    "meta.reset()\n",
    "meta.filter_lang(\"en\")\n",
    "subjects = meta.df.best_tag.value_counts().index[5:10]"
   ]
  },
  {
   "cell_type": "code",
   "execution_count": 18,
   "metadata": {},
   "outputs": [],
   "source": [
    "paths = []\n",
    "subs = []\n",
    "years = []\n",
    "for i, subject in enumerate(subjects):\n",
    "    meta.reset()\n",
    "    meta.filter_lang(\"en\", how=\"only\")\n",
    "    meta.df = meta.df.loc[meta.df.best_tag == subject]\n",
    "    mydf = meta.df.sample(min(40,len(meta.df)))\n",
    "    ids = mydf.id.values\n",
    "    syears = mydf.authoryearofbirth.values\n",
    "    spaths = [\"../../gutenberg/data/counts/\"+idd+\"_counts.txt\" for idd in ids]\n",
    "    spaths, syears = np.array([[path, year] for path, year in zip(spaths, syears) if os.path.isfile(path)]).T\n",
    "    paths.append(spaths)\n",
    "    subs.append([i]*len(spaths))\n",
    "    years.append(syears)"
   ]
  },
  {
   "cell_type": "code",
   "execution_count": 19,
   "metadata": {},
   "outputs": [],
   "source": [
    "years = np.concatenate(years)\n",
    "subs = np.concatenate(subs)\n",
    "paths = np.concatenate(paths)"
   ]
  },
  {
   "cell_type": "code",
   "execution_count": 20,
   "metadata": {},
   "outputs": [],
   "source": [
    "M = get_word2doc(paths)"
   ]
  },
  {
   "cell_type": "code",
   "execution_count": 21,
   "metadata": {},
   "outputs": [],
   "source": [
    "u25 = umap.UMAP(n_neighbors=25, metric=D_alpha_sparse_csr).fit_transform(M)\n",
    "u10 = umap.UMAP(n_neighbors=10, metric=D_alpha_sparse_csr).fit_transform(M)"
   ]
  },
  {
   "cell_type": "code",
   "execution_count": 22,
   "metadata": {},
   "outputs": [
    {
     "data": {
      "image/png": "[encoded data removed]",
      "text/plain": [
       "<matplotlib.figure.Figure at 0x7f8a77b08e80>"
      ]
     },
     "metadata": {},
     "output_type": "display_data"
    }
   ],
   "source": [
    "import matplotlib.cm as cm\n",
    "\n",
    "fig, (ax1, ax2) = plt.subplots(1,2,figsize=(18,6\n",
    "                                   ))\n",
    "\n",
    "for ax, u in zip([ax1, ax2],[u10, u25]):\n",
    "    sc=ax.scatter(*u.T, s=5, c=subs, cmap=plt.cm.get_cmap(\"tab10\"), vmin=-0.5, vmax=9.5)\n",
    "    cbar = fig.colorbar(sc, ax=ax)\n",
    "    cbar.set_ticks(range(len(set(subs))))\n",
    "    cbar.set_ticklabels(subjects)\n",
    "    #ax.set_xlim(-5, 5)"
   ]
  },
  {
   "cell_type": "markdown",
   "metadata": {},
   "source": [
    "+ Do same with other alphas\n",
    "+ Do same with authors"
   ]
  },
  {
   "cell_type": "markdown",
   "metadata": {},
   "source": [
    "+ Bookshelves"
   ]
  },
  {
   "cell_type": "markdown",
   "metadata": {},
   "source": [
    "### Bookshelves"
   ]
  },
  {
   "cell_type": "code",
   "execution_count": 23,
   "metadata": {},
   "outputs": [
    {
     "data": {
      "text/html": [
       "<div>\n",
       "<style scoped>\n",
       "    .dataframe tbody tr th:only-of-type {\n",
       "        vertical-align: middle;\n",
       "    }\n",
       "\n",
       "    .dataframe tbody tr th {\n",
       "        vertical-align: top;\n",
       "    }\n",
       "\n",
       "    .dataframe thead th {\n",
       "        text-align: right;\n",
       "    }\n",
       "</style>\n",
       "<table border=\"1\" class=\"dataframe\">\n",
       "  <thead>\n",
       "    <tr style=\"text-align: right;\">\n",
       "      <th></th>\n",
       "      <th>PGid</th>\n",
       "      <th>bookshelf</th>\n",
       "      <th>path_to_counts</th>\n",
       "      <th>bs_index</th>\n",
       "    </tr>\n",
       "  </thead>\n",
       "  <tbody>\n",
       "    <tr>\n",
       "      <th>1</th>\n",
       "      <td>PG43355</td>\n",
       "      <td>Humor_(Bookshelf)</td>\n",
       "      <td>../../gutenberg/data/counts/PG43355_counts.txt</td>\n",
       "      <td>0</td>\n",
       "    </tr>\n",
       "    <tr>\n",
       "      <th>2</th>\n",
       "      <td>PG22518</td>\n",
       "      <td>Humor_(Bookshelf)</td>\n",
       "      <td>../../gutenberg/data/counts/PG22518_counts.txt</td>\n",
       "      <td>0</td>\n",
       "    </tr>\n",
       "    <tr>\n",
       "      <th>3</th>\n",
       "      <td>PG23449</td>\n",
       "      <td>Humor_(Bookshelf)</td>\n",
       "      <td>../../gutenberg/data/counts/PG23449_counts.txt</td>\n",
       "      <td>0</td>\n",
       "    </tr>\n",
       "    <tr>\n",
       "      <th>4</th>\n",
       "      <td>PG9447</td>\n",
       "      <td>Humor_(Bookshelf)</td>\n",
       "      <td>../../gutenberg/data/counts/PG9447_counts.txt</td>\n",
       "      <td>0</td>\n",
       "    </tr>\n",
       "    <tr>\n",
       "      <th>5</th>\n",
       "      <td>PG4020</td>\n",
       "      <td>Humor_(Bookshelf)</td>\n",
       "      <td>../../gutenberg/data/counts/PG4020_counts.txt</td>\n",
       "      <td>0</td>\n",
       "    </tr>\n",
       "  </tbody>\n",
       "</table>\n",
       "</div>"
      ],
      "text/plain": [
       "      PGid          bookshelf                                  path_to_counts  \\\n",
       "1  PG43355  Humor_(Bookshelf)  ../../gutenberg/data/counts/PG43355_counts.txt   \n",
       "2  PG22518  Humor_(Bookshelf)  ../../gutenberg/data/counts/PG22518_counts.txt   \n",
       "3  PG23449  Humor_(Bookshelf)  ../../gutenberg/data/counts/PG23449_counts.txt   \n",
       "4   PG9447  Humor_(Bookshelf)   ../../gutenberg/data/counts/PG9447_counts.txt   \n",
       "5   PG4020  Humor_(Bookshelf)   ../../gutenberg/data/counts/PG4020_counts.txt   \n",
       "\n",
       "   bs_index  \n",
       "1         0  \n",
       "2         0  \n",
       "3         0  \n",
       "4         0  \n",
       "5         0  "
      ]
     },
     "execution_count": 23,
     "metadata": {},
     "output_type": "execute_result"
    }
   ],
   "source": [
    "# choose bookshelves between min and max books\n",
    "df = pd.read_pickle(\"../data/bookshelves.p\")\n",
    "df = df.loc[:, (df.sum()>100) & (df.sum()<=300)].dropna(how=\"all\")\n",
    "\n",
    "# create a new df with repeated books repeated\n",
    "tmp = []\n",
    "subjects = df.columns\n",
    "for s in subjects:\n",
    "    for PGid in df[s].dropna().index:\n",
    "        path = \"../../gutenberg/data/counts/%s_counts.txt\"%PGid\n",
    "        tmp.append([PGid, s, path])\n",
    "\n",
    "Bdf = pd.DataFrame(tmp, columns = [\"PGid\", \"bookshelf\", \"path_to_counts\"])\n",
    "\n",
    "# drop entries with no counts file\n",
    "Bdf = Bdf.loc[Bdf.path_to_counts.apply(os.path.isfile)]\n",
    "\n",
    "# add column with color codes\n",
    "bs_colors = {v:k for k, v in list(enumerate(Bdf.bookshelf.unique()))}\n",
    "Bdf[\"bs_index\"] = Bdf.bookshelf.apply(lambda x:bs_colors[x])\n",
    "\n",
    "Bdf.head()"
   ]
  },
  {
   "cell_type": "code",
   "execution_count": 24,
   "metadata": {},
   "outputs": [],
   "source": [
    "M = get_word2doc(Bdf.path_to_counts.values)"
   ]
  },
  {
   "cell_type": "code",
   "execution_count": 37,
   "metadata": {},
   "outputs": [],
   "source": [
    "from scipy.sparse import csr_matrix\n",
    "M = csr_matrix(np.random.randn(999,10))"
   ]
  },
  {
   "cell_type": "code",
   "execution_count": 38,
   "metadata": {},
   "outputs": [],
   "source": [
    "u25 = umap.UMAP(n_neighbors=25, metric=D_alpha_sparse_csr).fit_transform(M[:1000])"
   ]
  },
  {
   "cell_type": "code",
   "execution_count": 39,
   "metadata": {},
   "outputs": [],
   "source": [
    "u10 = umap.UMAP(n_neighbors=10, metric=D_alpha_sparse_csr).fit_transform(M)"
   ]
  },
  {
   "cell_type": "code",
   "execution_count": 40,
   "metadata": {},
   "outputs": [
    {
     "ename": "ValueError",
     "evalue": "Length of values does not match length of index",
     "output_type": "error",
     "traceback": [
      "\u001b[0;31m---------------------------------------------------------------------------\u001b[0m",
      "\u001b[0;31mValueError\u001b[0m                                Traceback (most recent call last)",
      "\u001b[0;32m<ipython-input-40-0025962c0123>\u001b[0m in \u001b[0;36m<module>\u001b[0;34m()\u001b[0m\n\u001b[0;32m----> 1\u001b[0;31m \u001b[0mBdf\u001b[0m\u001b[0;34m[\u001b[0m\u001b[0;34m\"x\"\u001b[0m\u001b[0;34m]\u001b[0m \u001b[0;34m=\u001b[0m \u001b[0mu25\u001b[0m\u001b[0;34m.\u001b[0m\u001b[0mT\u001b[0m\u001b[0;34m[\u001b[0m\u001b[0;36m0\u001b[0m\u001b[0;34m]\u001b[0m\u001b[0;34m\u001b[0m\u001b[0m\n\u001b[0m\u001b[1;32m      2\u001b[0m \u001b[0mBdf\u001b[0m\u001b[0;34m[\u001b[0m\u001b[0;34m\"y\"\u001b[0m\u001b[0;34m]\u001b[0m \u001b[0;34m=\u001b[0m \u001b[0mu25\u001b[0m\u001b[0;34m.\u001b[0m\u001b[0mT\u001b[0m\u001b[0;34m[\u001b[0m\u001b[0;36m1\u001b[0m\u001b[0;34m]\u001b[0m\u001b[0;34m\u001b[0m\u001b[0m\n",
      "\u001b[0;32m~/anaconda2/envs/py36/lib/python3.6/site-packages/pandas/core/frame.py\u001b[0m in \u001b[0;36m__setitem__\u001b[0;34m(self, key, value)\u001b[0m\n\u001b[1;32m   2517\u001b[0m         \u001b[0;32melse\u001b[0m\u001b[0;34m:\u001b[0m\u001b[0;34m\u001b[0m\u001b[0m\n\u001b[1;32m   2518\u001b[0m             \u001b[0;31m# set column\u001b[0m\u001b[0;34m\u001b[0m\u001b[0;34m\u001b[0m\u001b[0m\n\u001b[0;32m-> 2519\u001b[0;31m             \u001b[0mself\u001b[0m\u001b[0;34m.\u001b[0m\u001b[0m_set_item\u001b[0m\u001b[0;34m(\u001b[0m\u001b[0mkey\u001b[0m\u001b[0;34m,\u001b[0m \u001b[0mvalue\u001b[0m\u001b[0;34m)\u001b[0m\u001b[0;34m\u001b[0m\u001b[0m\n\u001b[0m\u001b[1;32m   2520\u001b[0m \u001b[0;34m\u001b[0m\u001b[0m\n\u001b[1;32m   2521\u001b[0m     \u001b[0;32mdef\u001b[0m \u001b[0m_setitem_slice\u001b[0m\u001b[0;34m(\u001b[0m\u001b[0mself\u001b[0m\u001b[0;34m,\u001b[0m \u001b[0mkey\u001b[0m\u001b[0;34m,\u001b[0m \u001b[0mvalue\u001b[0m\u001b[0;34m)\u001b[0m\u001b[0;34m:\u001b[0m\u001b[0;34m\u001b[0m\u001b[0m\n",
      "\u001b[0;32m~/anaconda2/envs/py36/lib/python3.6/site-packages/pandas/core/frame.py\u001b[0m in \u001b[0;36m_set_item\u001b[0;34m(self, key, value)\u001b[0m\n\u001b[1;32m   2583\u001b[0m \u001b[0;34m\u001b[0m\u001b[0m\n\u001b[1;32m   2584\u001b[0m         \u001b[0mself\u001b[0m\u001b[0;34m.\u001b[0m\u001b[0m_ensure_valid_index\u001b[0m\u001b[0;34m(\u001b[0m\u001b[0mvalue\u001b[0m\u001b[0;34m)\u001b[0m\u001b[0;34m\u001b[0m\u001b[0m\n\u001b[0;32m-> 2585\u001b[0;31m         \u001b[0mvalue\u001b[0m \u001b[0;34m=\u001b[0m \u001b[0mself\u001b[0m\u001b[0;34m.\u001b[0m\u001b[0m_sanitize_column\u001b[0m\u001b[0;34m(\u001b[0m\u001b[0mkey\u001b[0m\u001b[0;34m,\u001b[0m \u001b[0mvalue\u001b[0m\u001b[0;34m)\u001b[0m\u001b[0;34m\u001b[0m\u001b[0m\n\u001b[0m\u001b[1;32m   2586\u001b[0m         \u001b[0mNDFrame\u001b[0m\u001b[0;34m.\u001b[0m\u001b[0m_set_item\u001b[0m\u001b[0;34m(\u001b[0m\u001b[0mself\u001b[0m\u001b[0;34m,\u001b[0m \u001b[0mkey\u001b[0m\u001b[0;34m,\u001b[0m \u001b[0mvalue\u001b[0m\u001b[0;34m)\u001b[0m\u001b[0;34m\u001b[0m\u001b[0m\n\u001b[1;32m   2587\u001b[0m \u001b[0;34m\u001b[0m\u001b[0m\n",
      "\u001b[0;32m~/anaconda2/envs/py36/lib/python3.6/site-packages/pandas/core/frame.py\u001b[0m in \u001b[0;36m_sanitize_column\u001b[0;34m(self, key, value, broadcast)\u001b[0m\n\u001b[1;32m   2758\u001b[0m \u001b[0;34m\u001b[0m\u001b[0m\n\u001b[1;32m   2759\u001b[0m             \u001b[0;31m# turn me into an ndarray\u001b[0m\u001b[0;34m\u001b[0m\u001b[0;34m\u001b[0m\u001b[0m\n\u001b[0;32m-> 2760\u001b[0;31m             \u001b[0mvalue\u001b[0m \u001b[0;34m=\u001b[0m \u001b[0m_sanitize_index\u001b[0m\u001b[0;34m(\u001b[0m\u001b[0mvalue\u001b[0m\u001b[0;34m,\u001b[0m \u001b[0mself\u001b[0m\u001b[0;34m.\u001b[0m\u001b[0mindex\u001b[0m\u001b[0;34m,\u001b[0m \u001b[0mcopy\u001b[0m\u001b[0;34m=\u001b[0m\u001b[0;32mFalse\u001b[0m\u001b[0;34m)\u001b[0m\u001b[0;34m\u001b[0m\u001b[0m\n\u001b[0m\u001b[1;32m   2761\u001b[0m             \u001b[0;32mif\u001b[0m \u001b[0;32mnot\u001b[0m \u001b[0misinstance\u001b[0m\u001b[0;34m(\u001b[0m\u001b[0mvalue\u001b[0m\u001b[0;34m,\u001b[0m \u001b[0;34m(\u001b[0m\u001b[0mnp\u001b[0m\u001b[0;34m.\u001b[0m\u001b[0mndarray\u001b[0m\u001b[0;34m,\u001b[0m \u001b[0mIndex\u001b[0m\u001b[0;34m)\u001b[0m\u001b[0;34m)\u001b[0m\u001b[0;34m:\u001b[0m\u001b[0;34m\u001b[0m\u001b[0m\n\u001b[1;32m   2762\u001b[0m                 \u001b[0;32mif\u001b[0m \u001b[0misinstance\u001b[0m\u001b[0;34m(\u001b[0m\u001b[0mvalue\u001b[0m\u001b[0;34m,\u001b[0m \u001b[0mlist\u001b[0m\u001b[0;34m)\u001b[0m \u001b[0;32mand\u001b[0m \u001b[0mlen\u001b[0m\u001b[0;34m(\u001b[0m\u001b[0mvalue\u001b[0m\u001b[0;34m)\u001b[0m \u001b[0;34m>\u001b[0m \u001b[0;36m0\u001b[0m\u001b[0;34m:\u001b[0m\u001b[0;34m\u001b[0m\u001b[0m\n",
      "\u001b[0;32m~/anaconda2/envs/py36/lib/python3.6/site-packages/pandas/core/series.py\u001b[0m in \u001b[0;36m_sanitize_index\u001b[0;34m(data, index, copy)\u001b[0m\n\u001b[1;32m   3078\u001b[0m \u001b[0;34m\u001b[0m\u001b[0m\n\u001b[1;32m   3079\u001b[0m     \u001b[0;32mif\u001b[0m \u001b[0mlen\u001b[0m\u001b[0;34m(\u001b[0m\u001b[0mdata\u001b[0m\u001b[0;34m)\u001b[0m \u001b[0;34m!=\u001b[0m \u001b[0mlen\u001b[0m\u001b[0;34m(\u001b[0m\u001b[0mindex\u001b[0m\u001b[0;34m)\u001b[0m\u001b[0;34m:\u001b[0m\u001b[0;34m\u001b[0m\u001b[0m\n\u001b[0;32m-> 3080\u001b[0;31m         \u001b[0;32mraise\u001b[0m \u001b[0mValueError\u001b[0m\u001b[0;34m(\u001b[0m\u001b[0;34m'Length of values does not match length of '\u001b[0m \u001b[0;34m'index'\u001b[0m\u001b[0;34m)\u001b[0m\u001b[0;34m\u001b[0m\u001b[0m\n\u001b[0m\u001b[1;32m   3081\u001b[0m \u001b[0;34m\u001b[0m\u001b[0m\n\u001b[1;32m   3082\u001b[0m     \u001b[0;32mif\u001b[0m \u001b[0misinstance\u001b[0m\u001b[0;34m(\u001b[0m\u001b[0mdata\u001b[0m\u001b[0;34m,\u001b[0m \u001b[0mPeriodIndex\u001b[0m\u001b[0;34m)\u001b[0m\u001b[0;34m:\u001b[0m\u001b[0;34m\u001b[0m\u001b[0m\n",
      "\u001b[0;31mValueError\u001b[0m: Length of values does not match length of index"
     ]
    }
   ],
   "source": [
    "Bdf[\"x\"] = u25.T[0]\n",
    "Bdf[\"y\"] = u25.T[1]"
   ]
  },
  {
   "cell_type": "code",
   "execution_count": null,
   "metadata": {},
   "outputs": [],
   "source": [
    "import matplotlib.cm as cm\n",
    "\n",
    "fig, (ax1, ax2) = plt.subplots(1,2,figsize=(18,6\n",
    "                                   ))\n",
    "\n",
    "for ax, u in zip([ax1, ax2],[u10, u25]):\n",
    "    sc=ax.scatter(*u.T, s=5, c=Bdf.bs_index, cmap=plt.cm.get_cmap(\"tab10\"), vmin=-0.5, vmax=9.5)\n",
    "    cbar = fig.colorbar(sc, ax=ax)\n",
    "    cbar.set_ticks(range(len(set(subs))))\n",
    "    cbar.set_ticklabels(subjects)\n",
    "    #ax.set_xlim(-5, 5)"
   ]
  },
  {
   "cell_type": "code",
   "execution_count": null,
   "metadata": {},
   "outputs": [],
   "source": [
    "loginfo = pd.read_table(\"../../gutenberg/.log\", names=[\"PGid\", \"lang\", \"nl_before\", \"nl_after\", \"L\", \"V\"]).set_index(\"PGid\")"
   ]
  },
  {
   "cell_type": "code",
   "execution_count": null,
   "metadata": {},
   "outputs": [],
   "source": []
  },
  {
   "cell_type": "code",
   "execution_count": null,
   "metadata": {},
   "outputs": [],
   "source": [
    "bins = np.linspace(1,7);\n",
    "for lab, sdf in Bdf.groupby(\"bookshelf\"):\n",
    "    sns.kdeplot(loginfo.loc[sdf.PGid, \"L\"].apply(np.log10).values);"
   ]
  },
  {
   "cell_type": "code",
   "execution_count": null,
   "metadata": {},
   "outputs": [],
   "source": []
  }
 ],
 "metadata": {
  "kernelspec": {
   "display_name": "py36",
   "language": "python",
   "name": "py36"
  },
  "language_info": {
   "codemirror_mode": {
    "name": "ipython",
    "version": 3
   },
   "file_extension": ".py",
   "mimetype": "text/x-python",
   "name": "python",
   "nbconvert_exporter": "python",
   "pygments_lexer": "ipython3",
   "version": "3.6.3"
  }
 },
 "nbformat": 4,
 "nbformat_minor": 2
}
