{
 "cells": [
  {
   "cell_type": "code",
   "execution_count": 1,
   "metadata": {
    "collapsed": true
   },
   "outputs": [],
   "source": [
    "%load_ext autoreload\n",
    "%autoreload 2\n",
    "\n",
    "import numpy as np\n",
    "import os,sys\n",
    "import pylab as plt\n",
    "%matplotlib inline\n",
    "\n",
    "import glob\n"
   ]
  },
  {
   "cell_type": "code",
   "execution_count": 2,
   "metadata": {
    "collapsed": true
   },
   "outputs": [],
   "source": [
    "src_dir = '../src'\n",
    "sys.path.append(src_dir)\n",
    "from jsd import jsdalpha"
   ]
  },
  {
   "cell_type": "code",
   "execution_count": 3,
   "metadata": {
    "collapsed": true
   },
   "outputs": [],
   "source": [
    "src_meta = '../../gutenberg/src/'\n",
    "sys.path.append(src_meta)\n",
    "from metaquery import meta_query\n"
   ]
  },
  {
   "cell_type": "code",
   "execution_count": 4,
   "metadata": {
    "collapsed": true
   },
   "outputs": [],
   "source": [
    "# Load meta data"
   ]
  },
  {
   "cell_type": "code",
   "execution_count": 5,
   "metadata": {
    "collapsed": true
   },
   "outputs": [],
   "source": [
    "meta=meta_query(path=src_meta+'../metadata/metadata.csv')"
   ]
  },
  {
   "cell_type": "code",
   "execution_count": null,
   "metadata": {
    "collapsed": true
   },
   "outputs": [],
   "source": []
  },
  {
   "cell_type": "markdown",
   "metadata": {},
   "source": [
    "# Time"
   ]
  },
  {
   "cell_type": "code",
   "execution_count": null,
   "metadata": {
    "collapsed": true
   },
   "outputs": [],
   "source": []
  },
  {
   "cell_type": "code",
   "execution_count": null,
   "metadata": {
    "collapsed": true
   },
   "outputs": [],
   "source": []
  },
  {
   "cell_type": "code",
   "execution_count": 6,
   "metadata": {},
   "outputs": [
    {
     "name": "stdout",
     "output_type": "stream",
     "text": [
      "[1800 1820 1840 1860 1880   -1]\n"
     ]
    }
   ],
   "source": [
    "list_t = np.arange(1800,1900,20)\n",
    "dt=5\n",
    "list_t = np.append(list_t,-1)\n",
    "print(list_t)\n",
    "list_books = []\n",
    "\n",
    "lang = 'en'\n",
    "for t in list_t:\n",
    "    meta.reset()\n",
    "    meta.filter_lang(lang,how='only')\n",
    "    if t==-1:\n",
    "        pass\n",
    "    else:\n",
    "        meta.filter_year([t-dt,t+dt])\n",
    "#         meta.filter_year(t)\n",
    "\n",
    "    books_tmp = meta.get_ids()\n",
    "    list_books += [books_tmp]"
   ]
  },
  {
   "cell_type": "code",
   "execution_count": 7,
   "metadata": {},
   "outputs": [
    {
     "data": {
      "text/plain": [
       "[1365, 3061, 6416, 11354, 17913, 46330]"
      ]
     },
     "execution_count": 7,
     "metadata": {},
     "output_type": "execute_result"
    }
   ],
   "source": [
    "[len(h) for h in list_books]"
   ]
  },
  {
   "cell_type": "code",
   "execution_count": 8,
   "metadata": {},
   "outputs": [
    {
     "name": "stdout",
     "output_type": "stream",
     "text": [
      "1800\n",
      "1820\n",
      "1840\n",
      "1860\n",
      "1880\n",
      "-1\n"
     ]
    }
   ],
   "source": [
    "arr_alpha = np.array([0.0,1.0,2.0])\n",
    "Npair = 100\n",
    "weights = False ## standard 1/2,1.2\n",
    "normalized = True ## 0<=divergence <=1\n",
    "\n",
    "path_read = '../../gutenberg/data/counts/'\n",
    "\n",
    "list_jsdalpha = []\n",
    "list_labels = []\n",
    "for i_t,t in enumerate(list_t):\n",
    "    print(t)\n",
    "    list_jsd_tmp = []\n",
    "    books_tmp=list_books[i_t]\n",
    "    for i_Npair in range(Npair):\n",
    "        \n",
    "        book_sel = True\n",
    "        while book_sel== True:\n",
    "\n",
    "            pg1,pg2 = np.random.choice(books_tmp,replace=False,size=2)\n",
    "            fname_read = '%s_counts.txt'%(pg1)\n",
    "            filename1 = os.path.join(path_read,fname_read)\n",
    "\n",
    "            fname_read = '%s_counts.txt'%(pg2)\n",
    "            filename2 = os.path.join(path_read,fname_read)\n",
    "            \n",
    "            if os.path.isfile(filename1) and os.path.isfile(filename2):\n",
    "                book_sel = False\n",
    "        jsd = jsdalpha(filename1,filename2,alpha=arr_alpha,weights=weights,normalized=normalized)\n",
    "        list_jsd_tmp += [jsd]\n",
    "    list_jsdalpha += [list_jsd_tmp]"
   ]
  },
  {
   "cell_type": "code",
   "execution_count": 9,
   "metadata": {},
   "outputs": [
    {
     "data": {
      "image/png": "[encoded data removed]",
      "text/plain": [
       "<matplotlib.figure.Figure at 0x7f7e6c570dd8>"
      ]
     },
     "metadata": {},
     "output_type": "display_data"
    }
   ],
   "source": [
    "f=plt.figure(figsize = (15,5))\n",
    "for i_alpha,alpha in enumerate(arr_alpha):\n",
    "    ax=f.add_subplot(1,3,i_alpha+1)\n",
    "    list_jsd_plot = [ [h[i_alpha] for h in jsd_tmp] for jsd_tmp in list_jsdalpha ]\n",
    "\n",
    "    _ =ax.boxplot(list_jsd_plot,vert=False,whis=[2.5,97.5],labels=list_t)\n",
    "    _ = ax.set_title(r'JSD with $\\alpha = %.2f$'%(alpha))\n",
    "    \n",
    "    if i_alpha>0:\n",
    "        ax.set_yticklabels([])\n",
    "#     ax.set_xlim(0,1)"
   ]
  },
  {
   "cell_type": "markdown",
   "metadata": {},
   "source": [
    "# t1 vs t2"
   ]
  },
  {
   "cell_type": "code",
   "execution_count": 10,
   "metadata": {},
   "outputs": [
    {
     "name": "stdout",
     "output_type": "stream",
     "text": [
      "[1800 1820 1840 1860 1880]\n"
     ]
    }
   ],
   "source": [
    "list_t = np.arange(1800,1900,20)\n",
    "dt=5\n",
    "print(list_t)\n",
    "list_books = []\n",
    "\n",
    "lang = 'en'\n",
    "for t in list_t:\n",
    "    meta.reset()\n",
    "    meta.filter_lang(lang,how='only')\n",
    "    if t==-1:\n",
    "        pass\n",
    "    else:\n",
    "        meta.filter_year([t-dt,t+dt])\n",
    "        \n",
    "    books_tmp = meta.get_ids()\n",
    "    list_books += [books_tmp]"
   ]
  },
  {
   "cell_type": "code",
   "execution_count": 11,
   "metadata": {
    "collapsed": true
   },
   "outputs": [],
   "source": [
    "alpha = 1.\n",
    "Npair = 1000\n",
    "weights = False ## standard 1/2,1.2\n",
    "normalized = True ## 0<=divergence <=1\n",
    "\n",
    "path_read = '../../gutenberg/data/counts/'\n",
    "\n",
    "list_jsdalpha = []\n",
    "list_labels = []\n",
    "\n",
    "T=len(list_t)\n",
    "jsd_mu = np.zeros((T,T))\n",
    "jsd_std = np.zeros((T,T))\n",
    "\n",
    "for i_t1,t1 in enumerate(list_t):\n",
    "    for i_t2,t2 in enumerate(list_t):\n",
    "        if t1<t2:\n",
    "            mu=np.nan\n",
    "            std=np.nan\n",
    "        else:\n",
    "            \n",
    "#             print(t1,t2)\n",
    "            books_tmp1=list_books[i_t1]\n",
    "            books_tmp2=list_books[i_t2]\n",
    "            list_jsd_tmp = []\n",
    "            for i_Npair in range(Npair):\n",
    "\n",
    "                book_sel = True\n",
    "                while book_sel== True:\n",
    "\n",
    "                    pg1 = np.random.choice(books_tmp1)#,replace=False,size=1)\n",
    "                    pg2 = np.random.choice(books_tmp2)#,replace=False,size=1)\n",
    "                    fname_read = '%s_counts.txt'%(pg1)\n",
    "                    filename1 = os.path.join(path_read,fname_read)\n",
    "\n",
    "                    fname_read = '%s_counts.txt'%(pg2)\n",
    "                    filename2 = os.path.join(path_read,fname_read)\n",
    "\n",
    "                    if os.path.isfile(filename1) and os.path.isfile(filename2):\n",
    "                        book_sel = False\n",
    "                jsd = jsdalpha(filename1,filename2,alpha=arr_alpha,weights=weights,normalized=normalized)\n",
    "                list_jsd_tmp += [jsd]\n",
    "                \n",
    "            mu = np.mean(list_jsd_tmp)\n",
    "            std = np.std(list_jsd_tmp)\n",
    "        jsd_mu[i_t1,i_t2] = mu\n",
    "        jsd_std[i_t1,i_t2] = std"
   ]
  },
  {
   "cell_type": "code",
   "execution_count": 12,
   "metadata": {},
   "outputs": [
    {
     "data": {
      "text/plain": [
       "<matplotlib.colorbar.Colorbar at 0x7f7e6d1ec208>"
      ]
     },
     "execution_count": 12,
     "metadata": {},
     "output_type": "execute_result"
    },
    {
     "data": {
      "image/png": "[encoded data removed]",
      "text/plain": [
       "<matplotlib.figure.Figure at 0x7f7e6d314dd8>"
      ]
     },
     "metadata": {},
     "output_type": "display_data"
    }
   ],
   "source": [
    "Z = jsd_mu\n",
    "plt.imshow(Z,origin='lower')\n",
    "plt.colorbar()"
   ]
  },
  {
   "cell_type": "code",
   "execution_count": 13,
   "metadata": {},
   "outputs": [
    {
     "data": {
      "text/plain": [
       "<matplotlib.legend.Legend at 0x7f7e6cf53550>"
      ]
     },
     "execution_count": 13,
     "metadata": {},
     "output_type": "execute_result"
    },
    {
     "data": {
      "image/png": "[encoded data removed]",
      "text/plain": [
       "<matplotlib.figure.Figure at 0x7f7e6cf534a8>"
      ]
     },
     "metadata": {},
     "output_type": "display_data"
    }
   ],
   "source": [
    "for i_t1,t1 in enumerate(list_t):\n",
    "    x = list_t\n",
    "    y = jsd_mu[:,i_t1]\n",
    "    yerr=jsd_std[:,i_t1]/np.sqrt(Npair)\n",
    "    plt.errorbar(x,y,yerr=yerr,label=t1)\n",
    "plt.legend(loc=(1.1,0.3))        "
   ]
  },
  {
   "cell_type": "code",
   "execution_count": null,
   "metadata": {
    "collapsed": true
   },
   "outputs": [],
   "source": []
  },
  {
   "cell_type": "code",
   "execution_count": null,
   "metadata": {
    "collapsed": true
   },
   "outputs": [],
   "source": []
  }
 ],
 "metadata": {
  "kernelspec": {
   "display_name": "Python 3",
   "language": "python",
   "name": "python3"
  },
  "language_info": {
   "codemirror_mode": {
    "name": "ipython",
    "version": 3
   },
   "file_extension": ".py",
   "mimetype": "text/x-python",
   "name": "python",
   "nbconvert_exporter": "python",
   "pygments_lexer": "ipython3",
   "version": "3.6.1"
  }
 },
 "nbformat": 4,
 "nbformat_minor": 2
}
