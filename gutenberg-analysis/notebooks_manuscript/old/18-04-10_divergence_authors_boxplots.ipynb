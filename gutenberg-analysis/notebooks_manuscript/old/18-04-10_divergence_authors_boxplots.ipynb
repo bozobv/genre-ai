{
 "cells": [
  {
   "cell_type": "code",
   "execution_count": 1,
   "metadata": {
    "collapsed": true
   },
   "outputs": [],
   "source": [
    "%load_ext autoreload\n",
    "%autoreload 2\n",
    "\n",
    "import numpy as np\n",
    "import os,sys\n",
    "import pylab as plt\n",
    "%matplotlib inline\n",
    "\n",
    "import glob\n"
   ]
  },
  {
   "cell_type": "code",
   "execution_count": 2,
   "metadata": {
    "collapsed": true
   },
   "outputs": [],
   "source": [
    "src_dir = '../src'\n",
    "sys.path.append(src_dir)\n",
    "from jsd import jsdalpha"
   ]
  },
  {
   "cell_type": "code",
   "execution_count": 3,
   "metadata": {
    "collapsed": true
   },
   "outputs": [],
   "source": [
    "src_meta = '../../gutenberg/src/'\n",
    "sys.path.append(src_meta)\n",
    "from metaquery import meta_query\n"
   ]
  },
  {
   "cell_type": "code",
   "execution_count": 4,
   "metadata": {
    "collapsed": true
   },
   "outputs": [],
   "source": [
    "# Load meta data"
   ]
  },
  {
   "cell_type": "code",
   "execution_count": 6,
   "metadata": {
    "collapsed": true
   },
   "outputs": [],
   "source": [
    "meta=meta_query(path=src_meta+'../metadata/metadata.csv')"
   ]
  },
  {
   "cell_type": "markdown",
   "metadata": {
    "collapsed": true
   },
   "source": [
    "# Most downloaded books (in english)"
   ]
  },
  {
   "cell_type": "code",
   "execution_count": 61,
   "metadata": {},
   "outputs": [],
   "source": [
    "\n"
   ]
  },
  {
   "cell_type": "code",
   "execution_count": 65,
   "metadata": {},
   "outputs": [],
   "source": [
    "# meta.get_df()"
   ]
  },
  {
   "cell_type": "code",
   "execution_count": 66,
   "metadata": {},
   "outputs": [
    {
     "name": "stdout",
     "output_type": "stream",
     "text": [
      "Austen, Jane 22\n",
      "Conrad, Joseph 69\n",
      "Wilde, Oscar 41\n",
      "Carroll, Lewis 28\n",
      "Dickens, Charles 141\n",
      "Twain, Mark 202\n",
      "Melville, Herman 25\n",
      "Stevenson, Robert Louis 90\n",
      "Doyle, Arthur Conan 106\n",
      "Tolstoy, Leo, graf 47\n"
     ]
    }
   ],
   "source": [
    "list_authors = []\n",
    "Smax = 10\n",
    "nmin=20\n",
    "S = 0\n",
    "\n",
    "meta.reset()\n",
    "meta.filter_lang('en',how='only')\n",
    "meta.filter_downloads(-1)\n",
    "\n",
    "for author in list(meta.get_df()['author']):\n",
    "    meta.reset()\n",
    "    meta.filter_lang('en',how='only')\n",
    "    meta.filter_author(author)\n",
    "    list_pg_tmp = meta.get_ids()\n",
    "    n = len(list_pg_tmp)\n",
    "    if n>=nmin and author not in list_authors:\n",
    "        list_authors += [author]\n",
    "        S+=1\n",
    "        print(author,n)\n",
    "    if S==Smax:\n",
    "        break"
   ]
  },
  {
   "cell_type": "code",
   "execution_count": 67,
   "metadata": {},
   "outputs": [],
   "source": [
    "list_authors += ['All']\n",
    "list_books = []\n",
    "\n",
    "lang = 'en'\n",
    "for author in list_authors:\n",
    "    meta.reset()\n",
    "    meta.filter_lang(lang,how='any')\n",
    "    if author=='All':\n",
    "        pass\n",
    "    else:\n",
    "        meta.filter_author(author)\n",
    "    books_tmp = meta.get_ids()\n",
    "    list_books += [books_tmp]"
   ]
  },
  {
   "cell_type": "code",
   "execution_count": 68,
   "metadata": {},
   "outputs": [
    {
     "data": {
      "text/plain": [
       "[22, 69, 41, 28, 141, 202, 25, 90, 106, 47, 46477]"
      ]
     },
     "execution_count": 68,
     "metadata": {},
     "output_type": "execute_result"
    }
   ],
   "source": [
    "[len(h) for h in list_books]"
   ]
  },
  {
   "cell_type": "code",
   "execution_count": 69,
   "metadata": {},
   "outputs": [
    {
     "name": "stdout",
     "output_type": "stream",
     "text": [
      "Austen, Jane\n",
      "Conrad, Joseph\n",
      "Wilde, Oscar\n",
      "Carroll, Lewis\n",
      "Dickens, Charles\n",
      "Twain, Mark\n",
      "Melville, Herman\n",
      "Stevenson, Robert Louis\n",
      "Doyle, Arthur Conan\n",
      "Tolstoy, Leo, graf\n",
      "All\n"
     ]
    }
   ],
   "source": [
    "arr_alpha = np.array([0.0,1.0,2.0])\n",
    "Npair = 100\n",
    "weights = False ## standard 1/2,1.2\n",
    "normalized = True ## 0<=divergence <=1\n",
    "\n",
    "path_read = '../../gutenberg/data/counts/'\n",
    "\n",
    "list_jsdalpha = []\n",
    "list_labels = []\n",
    "for i_s,s in enumerate(list_authors):\n",
    "    print(s)\n",
    "    list_jsd_tmp = []\n",
    "    books_tmp=list_books[i_s]\n",
    "    for i_Npair in range(Npair):\n",
    "        \n",
    "        book_sel = True\n",
    "        while book_sel== True:\n",
    "\n",
    "            pg1,pg2 = np.random.choice(books_tmp,replace=False,size=2)\n",
    "            fname_read = '%s_counts.txt'%(pg1)\n",
    "            filename1 = os.path.join(path_read,fname_read)\n",
    "\n",
    "            fname_read = '%s_counts.txt'%(pg2)\n",
    "            filename2 = os.path.join(path_read,fname_read)\n",
    "            \n",
    "            if os.path.isfile(filename1) and os.path.isfile(filename2):\n",
    "                book_sel = False\n",
    "        jsd = jsdalpha(filename1,filename2,alpha=arr_alpha,weights=weights,normalized=normalized)\n",
    "        list_jsd_tmp += [jsd]\n",
    "    list_jsdalpha += [list_jsd_tmp]"
   ]
  },
  {
   "cell_type": "code",
   "execution_count": 70,
   "metadata": {},
   "outputs": [
    {
     "data": {
      "image/png": "[encoded data removed]",
      "text/plain": [
       "<matplotlib.figure.Figure at 0x7f4791efd198>"
      ]
     },
     "metadata": {},
     "output_type": "display_data"
    }
   ],
   "source": [
    "f=plt.figure(figsize = (15,5))\n",
    "for i_alpha,alpha in enumerate(arr_alpha):\n",
    "    ax=f.add_subplot(1,3,i_alpha+1)\n",
    "    list_jsd_plot = [ [h[i_alpha] for h in jsd_tmp] for jsd_tmp in list_jsdalpha ]\n",
    "\n",
    "    _ =ax.boxplot(list_jsd_plot,vert=False,whis=[2.5,97.5],labels=list_authors,sym='')\n",
    "    _ = ax.set_title(r'JSD with $\\alpha = %.2f$'%(alpha))\n",
    "    \n",
    "    if i_alpha>0:\n",
    "        ax.set_yticklabels([])\n",
    "#     ax.set_xlim(0,1)"
   ]
  },
  {
   "cell_type": "code",
   "execution_count": null,
   "metadata": {
    "collapsed": true
   },
   "outputs": [],
   "source": []
  },
  {
   "cell_type": "markdown",
   "metadata": {},
   "source": [
    "## Compare authors pairwise"
   ]
  },
  {
   "cell_type": "code",
   "execution_count": 71,
   "metadata": {
    "collapsed": true
   },
   "outputs": [],
   "source": [
    "N_a = len(list_authors)\n",
    "\n",
    "arr_alpha = np.array([0.0,1.0,2.0])\n",
    "Npair = 100\n",
    "weights = False ## standard 1/2,1.2\n",
    "normalized = True ## 0<=divergence <=1\n",
    "\n",
    "path_read = '../../gutenberg/data/counts/'\n",
    "\n",
    "list_jsdalpha = []\n",
    "list_labels = []\n",
    "\n",
    "jsd_mu = np.zeros((N_a,N_a,len(arr_alpha)))\n",
    "jsd_std = np.zeros((N_a,N_a,len(arr_alpha)))\n",
    "\n",
    "for i_a1,a1 in enumerate(list_authors):\n",
    "    for i_a2,a2 in enumerate(list_authors):\n",
    "        if i_a1 < i_a2:\n",
    "            mu=np.nan\n",
    "            std=np.nan\n",
    "        else:\n",
    "            \n",
    "#             print(t1,t2)\n",
    "            books_tmp1=list_books[i_a1]\n",
    "            books_tmp2=list_books[i_a2]\n",
    "            list_jsd_tmp = []\n",
    "            for i_Npair in range(Npair):\n",
    "\n",
    "                book_sel = True\n",
    "                while book_sel== True:\n",
    "\n",
    "                    pg1 = np.random.choice(books_tmp1)#,replace=False,size=1)\n",
    "                    pg2 = np.random.choice(books_tmp2)#,replace=False,size=1)\n",
    "                    fname_read = '%s_counts.txt'%(pg1)\n",
    "                    filename1 = os.path.join(path_read,fname_read)\n",
    "\n",
    "                    fname_read = '%s_counts.txt'%(pg2)\n",
    "                    filename2 = os.path.join(path_read,fname_read)\n",
    "\n",
    "                    if os.path.isfile(filename1) and os.path.isfile(filename2):\n",
    "                        book_sel = False\n",
    "                jsd = jsdalpha(filename1,filename2,alpha=arr_alpha,weights=weights,normalized=normalized)\n",
    "                list_jsd_tmp += [jsd]\n",
    "                \n",
    "            mu = [ np.mean( [h[i_alpha] for h in list_jsd_tmp]) for i_alpha,alpha in enumerate(arr_alpha)]\n",
    "            std = [ np.std( [h[i_alpha] for h in list_jsd_tmp]) for i_alpha,alpha in enumerate(arr_alpha)]\n",
    "        jsd_mu[i_a1,i_a2,:] = mu\n",
    "        jsd_std[i_a1,i_a2,:] = std"
   ]
  },
  {
   "cell_type": "code",
   "execution_count": 72,
   "metadata": {},
   "outputs": [
    {
     "data": {
      "image/png": "[encoded data removed]",
      "text/plain": [
       "<matplotlib.figure.Figure at 0x7f47914b3630>"
      ]
     },
     "metadata": {},
     "output_type": "display_data"
    }
   ],
   "source": [
    "fig=plt.figure(figsize=(15,4))\n",
    "for i_alpha,alpha in enumerate(arr_alpha):\n",
    "    ax=fig.add_subplot(1,3,i_alpha+1)\n",
    "    Z = jsd_mu[:,:,i_alpha]\n",
    "    im=ax.imshow(Z,origin='lower')\n",
    "    cbar = fig.colorbar(im)\n",
    "    ax.set_xticks(np.arange(N_a))\n",
    "    ax.set_xticklabels(list_authors,rotation=90)\n",
    "#     ax.set_yticks(np.arange(N_a))\n",
    "#     ax.set_yticklabels(list_authors,rotation=0)\n",
    "    ax.set_title(r' $\\alpha=%s$ | N-pairs= %s  '%(alpha,Npair))\n",
    "#     plt.colorbar()"
   ]
  },
  {
   "cell_type": "code",
   "execution_count": null,
   "metadata": {
    "collapsed": true
   },
   "outputs": [],
   "source": []
  },
  {
   "cell_type": "code",
   "execution_count": null,
   "metadata": {
    "collapsed": true
   },
   "outputs": [],
   "source": []
  }
 ],
 "metadata": {
  "kernelspec": {
   "display_name": "Python 3",
   "language": "python",
   "name": "python3"
  },
  "language_info": {
   "codemirror_mode": {
    "name": "ipython",
    "version": 3
   },
   "file_extension": ".py",
   "mimetype": "text/x-python",
   "name": "python",
   "nbconvert_exporter": "python",
   "pygments_lexer": "ipython3",
   "version": "3.6.1"
  }
 },
 "nbformat": 4,
 "nbformat_minor": 2
}
