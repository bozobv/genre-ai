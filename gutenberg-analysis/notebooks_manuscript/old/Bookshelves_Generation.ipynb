{
 "cells": [
  {
   "cell_type": "code",
   "execution_count": 1,
   "metadata": {},
   "outputs": [],
   "source": [
    "import numpy as np\n",
    "import pandas as pd\n",
    "import glob\n",
    "\n",
    "import matplotlib.pyplot as plt\n",
    "%matplotlib inline"
   ]
  },
  {
   "cell_type": "markdown",
   "metadata": {},
   "source": [
    "# PG Bookshelves\n",
    "We use PG bookshelves as labels, see here [here](http://www.gutenberg.org/wiki/Category:Bookshelf).\n",
    "They are better than the 'genre' metadata field. **WHY???**\n",
    "## Getting the data\n",
    "We scrap the PG wiki with `wget`,\n",
    "```bash\n",
    "wget --random-wait -r -p --no-parent -e robots=off -U mozilla http://www.gutenberg.org/wiki/Category:Bookshelf\n",
    "```\n",
    "see `data/bookshelves/README.md` for details. Then we parse the html files with `lxml`"
   ]
  },
  {
   "cell_type": "code",
   "execution_count": 2,
   "metadata": {},
   "outputs": [],
   "source": [
    "import lxml.html"
   ]
  },
  {
   "cell_type": "code",
   "execution_count": 3,
   "metadata": {},
   "outputs": [],
   "source": [
    "BS_paths = glob.glob(\"../data/bookshelves/*Bookshelf*\")\n",
    "BS = [path.split(\"/\")[-1] for path in BS_paths]"
   ]
  },
  {
   "cell_type": "code",
   "execution_count": 4,
   "metadata": {},
   "outputs": [],
   "source": [
    "BS_dict = {}\n",
    "for path in BS_paths:\n",
    "    bs = path.split(\"/\")[-1]\n",
    "    BS_dict[bs] = []\n",
    "    with open(path, \"r\") as foo:\n",
    "        dom = lxml.html.fromstring(foo.read())\n",
    "        # select the url in href for all a tags(links)\n",
    "        for link in dom.xpath('//a/@href'):\n",
    "            # links to ebooks that are not searches\n",
    "            if link.find(\"ebooks\")>-1 and link.find(\"search\")==-1:\n",
    "                PGid = \"PG\"+link.split(\"/\")[-1]\n",
    "                BS_dict[bs].append(PGid)\n",
    "\n",
    "    # delete empty BSs\n",
    "    if len(BS_dict[bs])==0:\n",
    "        del BS_dict[bs]\n",
    "    \n",
    "# recompose list of BSs\n",
    "BS = list(BS_dict.keys())\n",
    "\n",
    "# list of unique PGids\n",
    "PGids = list(set(np.concatenate(list(BS_dict.values()))))"
   ]
  },
  {
   "cell_type": "markdown",
   "metadata": {},
   "source": [
    "And save the data into a pickled dataframe"
   ]
  },
  {
   "cell_type": "code",
   "execution_count": 5,
   "metadata": {},
   "outputs": [],
   "source": [
    "# put in a DataFrame\n",
    "df = pd.DataFrame(index = PGids, columns = BS)\n",
    "for k,v in BS_dict.items():\n",
    "    df.loc[v, k] = True"
   ]
  },
  {
   "cell_type": "code",
   "execution_count": 6,
   "metadata": {},
   "outputs": [],
   "source": [
    "df.to_pickle(\"../data/bookshelves_raw.p\")"
   ]
  },
  {
   "cell_type": "markdown",
   "metadata": {},
   "source": [
    "## Filtering by size\n",
    "We focus on BS of medium size:"
   ]
  },
  {
   "cell_type": "code",
   "execution_count": 7,
   "metadata": {},
   "outputs": [],
   "source": [
    "min_books = 50\n",
    "max_books = 150"
   ]
  },
  {
   "cell_type": "code",
   "execution_count": 8,
   "metadata": {},
   "outputs": [],
   "source": [
    "sdf = df.loc[:, (df.sum()>min_books) & (df.sum()<=max_books) ].dropna(how=\"all\")"
   ]
  },
  {
   "cell_type": "code",
   "execution_count": 9,
   "metadata": {},
   "outputs": [
    {
     "name": "stdout",
     "output_type": "stream",
     "text": [
      "(4400, 53)\n"
     ]
    }
   ],
   "source": [
    "print(sdf.shape)"
   ]
  },
  {
   "cell_type": "markdown",
   "metadata": {},
   "source": [
    "Which leaves us with 53 cathegories totalling 4400 books. This is a small, curated¿? subset of the total PG."
   ]
  },
  {
   "cell_type": "markdown",
   "metadata": {},
   "source": [
    "### Ovelaps\n",
    "Of these 4400 books, only 257 appear in more than one bookshelves, spanning 42 out of 53 BS.\n",
    "I think we have two options:\n",
    "+ Leave them in\n",
    "+ **Drop the books**"
   ]
  },
  {
   "cell_type": "code",
   "execution_count": 10,
   "metadata": {},
   "outputs": [],
   "source": [
    "data = sdf.loc[sdf.sum(axis=1)>1].dropna(how=\"all\", axis=1).fillna(0).astype(int)"
   ]
  },
  {
   "cell_type": "code",
   "execution_count": 11,
   "metadata": {},
   "outputs": [
    {
     "name": "stdout",
     "output_type": "stream",
     "text": [
      "(257, 42)\n"
     ]
    }
   ],
   "source": [
    "print(data.shape)"
   ]
  },
  {
   "cell_type": "markdown",
   "metadata": {},
   "source": [
    "So I decided to drop the 257 books for the moment:"
   ]
  },
  {
   "cell_type": "code",
   "execution_count": 12,
   "metadata": {},
   "outputs": [],
   "source": [
    "sdf = sdf.loc[sdf.sum(axis=1)==1].dropna(how=\"all\", axis=1)"
   ]
  },
  {
   "cell_type": "code",
   "execution_count": 13,
   "metadata": {},
   "outputs": [
    {
     "name": "stdout",
     "output_type": "stream",
     "text": [
      "(4143, 53)\n"
     ]
    }
   ],
   "source": [
    "print(sdf.shape)"
   ]
  },
  {
   "cell_type": "markdown",
   "metadata": {},
   "source": [
    "Finally, we remove the *Esperanto* bookshelve"
   ]
  },
  {
   "cell_type": "code",
   "execution_count": 14,
   "metadata": {},
   "outputs": [],
   "source": [
    "sdf = sdf.drop(\"Esperanto_(Bookshelf)\", axis=1).dropna(how=\"all\")"
   ]
  },
  {
   "cell_type": "code",
   "execution_count": 15,
   "metadata": {},
   "outputs": [
    {
     "name": "stdout",
     "output_type": "stream",
     "text": [
      "(4046, 52)\n"
     ]
    }
   ],
   "source": [
    "print(sdf.shape)"
   ]
  },
  {
   "cell_type": "markdown",
   "metadata": {},
   "source": [
    "### Filter by language\n",
    "We check if any of the remaining books are not written in English"
   ]
  },
  {
   "cell_type": "code",
   "execution_count": 16,
   "metadata": {},
   "outputs": [],
   "source": [
    "import sys\n",
    "sys.path.append(\"../../gutenberg/src/\")"
   ]
  },
  {
   "cell_type": "code",
   "execution_count": 17,
   "metadata": {},
   "outputs": [],
   "source": [
    "from metaquery import meta_query"
   ]
  },
  {
   "cell_type": "code",
   "execution_count": 18,
   "metadata": {},
   "outputs": [],
   "source": [
    "mq = meta_query(path=\"../../gutenberg/metadata/metadata.csv\")"
   ]
  },
  {
   "cell_type": "code",
   "execution_count": 19,
   "metadata": {},
   "outputs": [],
   "source": [
    "mq.filter_lang(\"en\", how=\"only\")"
   ]
  },
  {
   "cell_type": "code",
   "execution_count": 20,
   "metadata": {},
   "outputs": [],
   "source": [
    "allPGs = mq.df.set_index(\"id\").index"
   ]
  },
  {
   "cell_type": "code",
   "execution_count": 21,
   "metadata": {},
   "outputs": [
    {
     "data": {
      "text/plain": [
       "3695"
      ]
     },
     "execution_count": 21,
     "metadata": {},
     "output_type": "execute_result"
    }
   ],
   "source": [
    "len(np.intersect1d(sdf.index, allPGs))"
   ]
  },
  {
   "cell_type": "markdown",
   "metadata": {},
   "source": [
    "So we further drop a few more books not written in English.\n",
    "I suspect these were the outliers in the UMAP plots!"
   ]
  },
  {
   "cell_type": "code",
   "execution_count": 22,
   "metadata": {},
   "outputs": [],
   "source": [
    "sdf = sdf.loc[np.intersect1d(sdf.index, allPGs)].dropna(how=\"all\", axis=1)"
   ]
  },
  {
   "cell_type": "code",
   "execution_count": 23,
   "metadata": {},
   "outputs": [
    {
     "name": "stdout",
     "output_type": "stream",
     "text": [
      "(3695, 51)\n"
     ]
    }
   ],
   "source": [
    "print(sdf.shape)"
   ]
  },
  {
   "cell_type": "code",
   "execution_count": 24,
   "metadata": {},
   "outputs": [],
   "source": [
    "sdf.to_pickle(\"../data/bookshelves_clean.p\")"
   ]
  },
  {
   "cell_type": "code",
   "execution_count": null,
   "metadata": {},
   "outputs": [],
   "source": []
  }
 ],
 "metadata": {
  "kernelspec": {
   "display_name": "Python [default]",
   "language": "python",
   "name": "python3"
  },
  "language_info": {
   "codemirror_mode": {
    "name": "ipython",
    "version": 3
   },
   "file_extension": ".py",
   "mimetype": "text/x-python",
   "name": "python",
   "nbconvert_exporter": "python",
   "pygments_lexer": "ipython3",
   "version": "3.6.4"
  }
 },
 "nbformat": 4,
 "nbformat_minor": 2
}
