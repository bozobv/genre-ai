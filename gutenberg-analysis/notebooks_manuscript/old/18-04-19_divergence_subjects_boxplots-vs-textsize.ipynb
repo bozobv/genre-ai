{
 "cells": [
  {
   "cell_type": "code",
   "execution_count": 1,
   "metadata": {
    "collapsed": true
   },
   "outputs": [],
   "source": [
    "%load_ext autoreload\n",
    "%autoreload 2\n",
    "\n",
    "import numpy as np\n",
    "import os,sys\n",
    "import pylab as plt\n",
    "%matplotlib inline\n",
    "\n",
    "import glob\n"
   ]
  },
  {
   "cell_type": "code",
   "execution_count": 2,
   "metadata": {
    "collapsed": true
   },
   "outputs": [],
   "source": [
    "src_dir = '../src'\n",
    "sys.path.append(src_dir)\n",
    "from jsd import jsdalpha"
   ]
  },
  {
   "cell_type": "code",
   "execution_count": 3,
   "metadata": {
    "collapsed": true
   },
   "outputs": [],
   "source": [
    "src_meta = '../../gutenberg/src/'\n",
    "sys.path.append(src_meta)\n",
    "from metaquery import meta_query\n"
   ]
  },
  {
   "cell_type": "code",
   "execution_count": 4,
   "metadata": {
    "collapsed": true
   },
   "outputs": [],
   "source": [
    "# Load meta data"
   ]
  },
  {
   "cell_type": "code",
   "execution_count": 5,
   "metadata": {
    "collapsed": true
   },
   "outputs": [],
   "source": [
    "meta=meta_query(path=src_meta+'../metadata/metadata.csv')"
   ]
  },
  {
   "cell_type": "code",
   "execution_count": null,
   "metadata": {
    "collapsed": true
   },
   "outputs": [],
   "source": []
  },
  {
   "cell_type": "markdown",
   "metadata": {},
   "source": [
    "# Subjects"
   ]
  },
  {
   "cell_type": "code",
   "execution_count": 6,
   "metadata": {},
   "outputs": [
    {
     "name": "stdout",
     "output_type": "stream",
     "text": [
      "Short stories 1605\n",
      "Science fiction 1508\n",
      "Fiction 1290\n",
      "Adventure stories 793\n",
      "Conduct of life -- Juvenile fiction 645\n",
      "Love stories 623\n",
      "Detective and mystery stories 568\n",
      "English wit and humor -- Periodicals 556\n",
      "Historical fiction 502\n",
      "Poetry 450\n"
     ]
    }
   ],
   "source": [
    "Smax = 10\n",
    "\n",
    "meta.reset()\n",
    "meta.filter_lang('en')\n",
    "subjects=meta.get_subjects_counts()\n",
    "\n",
    "\n",
    "list_subjects = []\n",
    "for s,n_s in subjects.most_common(Smax):\n",
    "    print(s,n_s)\n",
    "    list_subjects+=[s]"
   ]
  },
  {
   "cell_type": "code",
   "execution_count": 7,
   "metadata": {
    "collapsed": true
   },
   "outputs": [],
   "source": [
    "# list_subjects += ['All']\n",
    "list_books = []\n",
    "\n",
    "lang = 'en'\n",
    "for s in list_subjects:\n",
    "    meta.reset()\n",
    "    meta.filter_lang(lang,how='only')\n",
    "    if s=='All':\n",
    "        pass\n",
    "    else:\n",
    "        meta.filter_subject(s,how='any')\n",
    "    books_tmp = meta.get_ids()\n",
    "    list_books += [books_tmp]"
   ]
  },
  {
   "cell_type": "code",
   "execution_count": 8,
   "metadata": {},
   "outputs": [
    {
     "data": {
      "text/plain": [
       "[1636, 1508, 1292, 794, 670, 628, 568, 556, 513, 451]"
      ]
     },
     "execution_count": 8,
     "metadata": {},
     "output_type": "execute_result"
    }
   ],
   "source": [
    "[len(h) for h in list_books]"
   ]
  },
  {
   "cell_type": "code",
   "execution_count": 9,
   "metadata": {
    "collapsed": true
   },
   "outputs": [],
   "source": [
    "# filename1\n",
    "def textlength(filename):\n",
    "    with open(filename,'r') as f:\n",
    "        x=f.readlines()\n",
    "        N=len(x)\n",
    "    return N\n"
   ]
  },
  {
   "cell_type": "code",
   "execution_count": 10,
   "metadata": {},
   "outputs": [
    {
     "name": "stdout",
     "output_type": "stream",
     "text": [
      "Short stories\n",
      "Science fiction\n",
      "Fiction\n",
      "Adventure stories\n",
      "Conduct of life -- Juvenile fiction\n",
      "Love stories\n",
      "Detective and mystery stories\n",
      "English wit and humor -- Periodicals\n",
      "Historical fiction\n",
      "Poetry\n"
     ]
    }
   ],
   "source": [
    "arr_alpha = np.linspace(0.0,5.0,51)\n",
    "Npair = 1000\n",
    "weights = False ## standard 1/2,1.2\n",
    "normalized = True ## 0<=divergence <=1\n",
    "\n",
    "path_read = '../../gutenberg/data/counts/'\n",
    "\n",
    "list_jsdalpha = []\n",
    "list_labels = []\n",
    "list_N = []\n",
    "for i_s,s in enumerate(list_subjects):\n",
    "    print(s)\n",
    "    list_jsd_tmp = []\n",
    "    books_tmp=list_books[i_s]\n",
    "    list_N_tmp = []\n",
    "    for i_Npair in range(Npair):\n",
    "        \n",
    "        book_sel = True\n",
    "        while book_sel== True:\n",
    "\n",
    "            pg1,pg2 = np.random.choice(books_tmp,replace=False,size=2)\n",
    "            fname_read = '%s_counts.txt'%(pg1)\n",
    "            filename1 = os.path.join(path_read,fname_read)\n",
    "\n",
    "            fname_read = '%s_counts.txt'%(pg2)\n",
    "            filename2 = os.path.join(path_read,fname_read)\n",
    "            \n",
    "            if os.path.isfile(filename1) and os.path.isfile(filename2):\n",
    "                book_sel = False\n",
    "        N1 = textlength(filename1)\n",
    "        list_N_tmp += [N1]\n",
    "        jsd = jsdalpha(filename1,filename2,alpha=arr_alpha,weights=weights,normalized=normalized)\n",
    "        list_jsd_tmp += [jsd]\n",
    "    list_jsdalpha += [list_jsd_tmp]\n",
    "    list_N += [list_N_tmp]"
   ]
  },
  {
   "cell_type": "code",
   "execution_count": 11,
   "metadata": {
    "collapsed": true
   },
   "outputs": [],
   "source": [
    "list_N_mu = [np.mean(h) for h in list_N]\n",
    "# ind_sort_N\n",
    "# list_N_mu"
   ]
  },
  {
   "cell_type": "markdown",
   "metadata": {},
   "source": [
    "## Plot dependence on length"
   ]
  },
  {
   "cell_type": "code",
   "execution_count": 12,
   "metadata": {},
   "outputs": [
    {
     "data": {
      "image/png": "[encoded data removed]",
      "text/plain": [
       "<matplotlib.figure.Figure at 0x7f1a0fcf8f28>"
      ]
     },
     "metadata": {},
     "output_type": "display_data"
    }
   ],
   "source": [
    "alpha_plot = [0.0,1.0,2.0]\n",
    "i_alpha_plot = 0\n",
    "f=plt.figure(figsize = (15,5))\n",
    "for i_alpha,alpha in enumerate(arr_alpha):\n",
    "    if alpha in alpha_plot:\n",
    "        ax=f.add_subplot(1,3,i_alpha_plot+1)\n",
    "        list_jsd_plot = [ [h[i_alpha] for h in jsd_tmp] for jsd_tmp in list_jsdalpha ]\n",
    "        ind_sort_N = np.argsort(list_N_mu)\n",
    "\n",
    "        x = np.array(list_N_mu)[ind_sort_N]\n",
    "        y = np.array([np.mean(h) for h in list_jsd_plot])[ind_sort_N]\n",
    "        yerr = np.array([np.std(h) for h in list_jsd_plot])[ind_sort_N]\n",
    "        ax.errorbar(x,y,yerr=yerr,lw=1,marker='o')\n",
    "\n",
    "        ax.set_xscale('log')\n",
    "\n",
    "        _ = ax.set_title(r'JSD with $\\alpha = %.2f$'%(alpha))\n",
    "        i_alpha_plot+=1\n",
    "    #     if i_alpha>0:\n",
    "    #         ax.set_yticklabels([])\n",
    "    #     ax.set_xlim(0,1)"
   ]
  },
  {
   "cell_type": "markdown",
   "metadata": {},
   "source": [
    "## Plot Correlation coeffciient as a function of alpha"
   ]
  },
  {
   "cell_type": "code",
   "execution_count": 13,
   "metadata": {
    "collapsed": true
   },
   "outputs": [],
   "source": [
    "arr_C = 0.0*arr_alpha\n",
    "for i_alpha,alpha in enumerate(arr_alpha):\n",
    "    list_jsd_plot = [ [h[i_alpha] for h in jsd_tmp] for jsd_tmp in list_jsdalpha ]\n",
    "    ind_sort_N = np.argsort(list_N_mu)\n",
    "    x = np.array(list_N_mu)[ind_sort_N]\n",
    "    y = np.array([np.mean(h) for h in list_jsd_plot])[ind_sort_N]\n",
    "    C = np.corrcoef(x,y)[0,1]\n",
    "    arr_C[i_alpha] = C"
   ]
  },
  {
   "cell_type": "code",
   "execution_count": 15,
   "metadata": {},
   "outputs": [
    {
     "data": {
      "text/plain": [
       "[<matplotlib.lines.Line2D at 0x7f1a0a4636d8>]"
      ]
     },
     "execution_count": 15,
     "metadata": {},
     "output_type": "execute_result"
    },
    {
     "data": {
      "image/png": "[encoded data removed]",
      "text/plain": [
       "<matplotlib.figure.Figure at 0x7f1a0a4af5f8>"
      ]
     },
     "metadata": {},
     "output_type": "display_data"
    }
   ],
   "source": [
    "plt.plot(arr_alpha,arr_C,marker='o')"
   ]
  },
  {
   "cell_type": "code",
   "execution_count": 16,
   "metadata": {},
   "outputs": [
    {
     "data": {
      "text/plain": [
       "array([[ 1.        , -0.13102243],\n",
       "       [-0.13102243,  1.        ]])"
      ]
     },
     "execution_count": 16,
     "metadata": {},
     "output_type": "execute_result"
    }
   ],
   "source": [
    "np.corrcoef(x,y)"
   ]
  },
  {
   "cell_type": "code",
   "execution_count": null,
   "metadata": {
    "collapsed": true
   },
   "outputs": [],
   "source": []
  }
 ],
 "metadata": {
  "kernelspec": {
   "display_name": "Python 3",
   "language": "python",
   "name": "python3"
  },
  "language_info": {
   "codemirror_mode": {
    "name": "ipython",
    "version": 3
   },
   "file_extension": ".py",
   "mimetype": "text/x-python",
   "name": "python",
   "nbconvert_exporter": "python",
   "pygments_lexer": "ipython3",
   "version": "3.6.1"
  }
 },
 "nbformat": 4,
 "nbformat_minor": 2
}
