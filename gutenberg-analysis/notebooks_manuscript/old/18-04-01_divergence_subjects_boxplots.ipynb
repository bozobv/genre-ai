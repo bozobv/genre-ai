{
 "cells": [
  {
   "cell_type": "code",
   "execution_count": 1,
   "metadata": {},
   "outputs": [],
   "source": [
    "%load_ext autoreload\n",
    "%autoreload 2\n",
    "\n",
    "import numpy as np\n",
    "import os,sys\n",
    "import pylab as plt\n",
    "%matplotlib inline\n",
    "\n",
    "import glob\n"
   ]
  },
  {
   "cell_type": "code",
   "execution_count": 2,
   "metadata": {
    "collapsed": true
   },
   "outputs": [],
   "source": [
    "src_dir = '../src'\n",
    "sys.path.append(src_dir)\n",
    "from jsd import jsdalpha"
   ]
  },
  {
   "cell_type": "code",
   "execution_count": 3,
   "metadata": {},
   "outputs": [],
   "source": [
    "src_meta = '../../gutenberg/src/'\n",
    "sys.path.append(src_meta)\n",
    "from metaquery import meta_query\n"
   ]
  },
  {
   "cell_type": "code",
   "execution_count": 4,
   "metadata": {
    "collapsed": true
   },
   "outputs": [],
   "source": [
    "# Load meta data"
   ]
  },
  {
   "cell_type": "code",
   "execution_count": 5,
   "metadata": {},
   "outputs": [],
   "source": [
    "meta=meta_query(path=src_meta+'../metadata/metadata.csv')"
   ]
  },
  {
   "cell_type": "code",
   "execution_count": null,
   "metadata": {
    "collapsed": true
   },
   "outputs": [],
   "source": []
  },
  {
   "cell_type": "markdown",
   "metadata": {},
   "source": [
    "# Subjects"
   ]
  },
  {
   "cell_type": "code",
   "execution_count": 6,
   "metadata": {},
   "outputs": [
    {
     "name": "stdout",
     "output_type": "stream",
     "text": [
      "Short stories 1455\n",
      "Fiction 1280\n",
      "Science fiction 1271\n",
      "Adventure stories 769\n",
      "Love stories 613\n",
      "Conduct of life -- Juvenile fiction 608\n",
      "Detective and mystery stories 559\n",
      "English wit and humor -- Periodicals 555\n",
      "Historical fiction 497\n",
      "Poetry 446\n",
      "Western stories 422\n",
      "Man-woman relationships -- Fiction 398\n",
      "England -- Fiction 349\n",
      "Friendship -- Juvenile fiction 317\n",
      "Young women -- Fiction 291\n",
      "Domestic fiction 290\n",
      "Humorous stories 277\n",
      "Adventure and adventurers -- Juvenile fiction 255\n",
      "Christian life -- Juvenile fiction 255\n",
      "English fiction -- 19th century 248\n"
     ]
    }
   ],
   "source": [
    "Smax = 20\n",
    "\n",
    "meta.reset()\n",
    "meta.filter_lang('en')\n",
    "subjects=meta.get_subjects_counts()\n",
    "\n",
    "\n",
    "list_subjects = []\n",
    "for s,n_s in subjects.most_common(Smax):\n",
    "    print(s,n_s)\n",
    "    list_subjects+=[s]"
   ]
  },
  {
   "cell_type": "code",
   "execution_count": 7,
   "metadata": {},
   "outputs": [
    {
     "name": "stdout",
     "output_type": "stream",
     "text": [
      "['Short stories', 'Fiction', 'Science fiction', 'Adventure stories', 'Love stories', 'Conduct of life -- Juvenile fiction', 'Detective and mystery stories', 'English wit and humor -- Periodicals', 'Historical fiction', 'Poetry', 'Western stories', 'Man-woman relationships -- Fiction', 'England -- Fiction', 'Friendship -- Juvenile fiction', 'Young women -- Fiction', 'Domestic fiction', 'Humorous stories', 'Adventure and adventurers -- Juvenile fiction', 'Christian life -- Juvenile fiction', 'English fiction -- 19th century']\n"
     ]
    }
   ],
   "source": [
    "print(list_subjects)"
   ]
  },
  {
   "cell_type": "code",
   "execution_count": 8,
   "metadata": {
    "collapsed": true
   },
   "outputs": [],
   "source": [
    "list_subjects += ['All']\n",
    "list_books = []\n",
    "\n",
    "lang = 'en'\n",
    "for s in list_subjects:\n",
    "    meta.reset()\n",
    "    meta.filter_lang(lang,how='only')\n",
    "    if s=='All':\n",
    "        pass\n",
    "    else:\n",
    "        meta.filter_subject(s,how='any')\n",
    "    books_tmp = meta.get_ids()\n",
    "    list_books += [books_tmp]"
   ]
  },
  {
   "cell_type": "code",
   "execution_count": 9,
   "metadata": {},
   "outputs": [
    {
     "data": {
      "text/plain": [
       "[1484,\n",
       " 1281,\n",
       " 1276,\n",
       " 775,\n",
       " 618,\n",
       " 657,\n",
       " 559,\n",
       " 555,\n",
       " 509,\n",
       " 446,\n",
       " 424,\n",
       " 399,\n",
       " 350,\n",
       " 320,\n",
       " 291,\n",
       " 292,\n",
       " 280,\n",
       " 257,\n",
       " 260,\n",
       " 248,\n",
       " 45469]"
      ]
     },
     "execution_count": 9,
     "metadata": {},
     "output_type": "execute_result"
    }
   ],
   "source": [
    "[len(h) for h in list_books]"
   ]
  },
  {
   "cell_type": "code",
   "execution_count": 10,
   "metadata": {},
   "outputs": [
    {
     "name": "stdout",
     "output_type": "stream",
     "text": [
      "Short stories\n",
      "Fiction\n",
      "Science fiction\n",
      "Adventure stories\n",
      "Love stories\n",
      "Conduct of life -- Juvenile fiction\n",
      "Detective and mystery stories\n",
      "English wit and humor -- Periodicals\n",
      "Historical fiction\n",
      "Poetry\n",
      "Western stories\n",
      "Man-woman relationships -- Fiction\n",
      "England -- Fiction\n",
      "Friendship -- Juvenile fiction\n",
      "Young women -- Fiction\n",
      "Domestic fiction\n",
      "Humorous stories\n",
      "Adventure and adventurers -- Juvenile fiction\n",
      "Christian life -- Juvenile fiction\n",
      "English fiction -- 19th century\n",
      "All\n"
     ]
    }
   ],
   "source": [
    "arr_alpha = np.array([0.0,1.0,2.0])\n",
    "Npair = 500\n",
    "weights = False ## standard 1/2,1.2\n",
    "normalized = True ## 0<=divergence <=1\n",
    "\n",
    "path_read = '../../gutenberg/data/counts/'\n",
    "\n",
    "list_jsdalpha = []\n",
    "list_labels = []\n",
    "for i_s,s in enumerate(list_subjects):\n",
    "    print(s)\n",
    "    list_jsd_tmp = []\n",
    "    books_tmp=list_books[i_s]\n",
    "    for i_Npair in range(Npair):\n",
    "        \n",
    "        book_sel = True\n",
    "        while book_sel== True:\n",
    "\n",
    "            pg1,pg2 = np.random.choice(books_tmp,replace=False,size=2)\n",
    "            fname_read = '%s_counts.txt'%(pg1)\n",
    "            filename1 = os.path.join(path_read,fname_read)\n",
    "\n",
    "            fname_read = '%s_counts.txt'%(pg2)\n",
    "            filename2 = os.path.join(path_read,fname_read)\n",
    "            \n",
    "            if os.path.isfile(filename1) and os.path.isfile(filename2):\n",
    "                book_sel = False\n",
    "        jsd = jsdalpha(filename1,filename2,alpha=arr_alpha,weights=weights,normalized=normalized)\n",
    "        list_jsd_tmp += [jsd]\n",
    "    list_jsdalpha += [list_jsd_tmp]"
   ]
  },
  {
   "cell_type": "code",
   "execution_count": 12,
   "metadata": {},
   "outputs": [
    {
     "data": {
      "image/png": "[encoded data removed]",
      "text/plain": [
       "<matplotlib.figure.Figure at 0x7f0e6107b320>"
      ]
     },
     "metadata": {},
     "output_type": "display_data"
    }
   ],
   "source": [
    "f=plt.figure(figsize = (15,5))\n",
    "for i_alpha,alpha in enumerate(arr_alpha):\n",
    "    ax=f.add_subplot(1,3,i_alpha+1)\n",
    "    list_jsd_plot = [ [h[i_alpha] for h in jsd_tmp] for jsd_tmp in list_jsdalpha ]\n",
    "\n",
    "    _ =ax.boxplot(list_jsd_plot,vert=False,whis=[2.5,97.5],labels=list_subjects,sym='')\n",
    "    _ = ax.set_title(r'JSD with $\\alpha = %.2f$'%(alpha))\n",
    "    \n",
    "    if i_alpha>0:\n",
    "        ax.set_yticklabels([])\n",
    "#     ax.set_xlim(0,1)"
   ]
  },
  {
   "cell_type": "code",
   "execution_count": null,
   "metadata": {
    "collapsed": true
   },
   "outputs": [],
   "source": []
  }
 ],
 "metadata": {
  "kernelspec": {
   "display_name": "Python [default]",
   "language": "python",
   "name": "python3"
  },
  "language_info": {
   "codemirror_mode": {
    "name": "ipython",
    "version": 3
   },
   "file_extension": ".py",
   "mimetype": "text/x-python",
   "name": "python",
   "nbconvert_exporter": "python",
   "pygments_lexer": "ipython3",
   "version": "3.6.4"
  }
 },
 "nbformat": 4,
 "nbformat_minor": 2
}
