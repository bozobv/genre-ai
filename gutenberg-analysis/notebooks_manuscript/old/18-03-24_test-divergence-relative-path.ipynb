{
 "cells": [
  {
   "cell_type": "code",
   "execution_count": 11,
   "metadata": {},
   "outputs": [
    {
     "name": "stdout",
     "output_type": "stream",
     "text": [
      "The autoreload extension is already loaded. To reload it, use:\n",
      "  %reload_ext autoreload\n"
     ]
    }
   ],
   "source": [
    "%load_ext autoreload\n",
    "%autoreload 2\n",
    "\n",
    "import numpy as np\n",
    "import os,sys\n",
    "import pylab as plt\n",
    "%matplotlib inline\n",
    "\n",
    "import glob\n"
   ]
  },
  {
   "cell_type": "code",
   "execution_count": 12,
   "metadata": {
    "collapsed": true
   },
   "outputs": [],
   "source": [
    "src_dir = '../src'\n",
    "sys.path.append(src_dir)\n",
    "from jsd import jsdalpha"
   ]
  },
  {
   "cell_type": "code",
   "execution_count": null,
   "metadata": {
    "collapsed": true
   },
   "outputs": [],
   "source": []
  },
  {
   "cell_type": "markdown",
   "metadata": {},
   "source": [
    "## Divergence between 2 books as a function of alpha\n",
    "\n",
    "The function jsdalpha calculates the jsd between 2 count-files.\n",
    "The count files are in the \"gutenberg-format\":\n",
    "\n",
    "word \\tab count \\newline"
   ]
  },
  {
   "cell_type": "code",
   "execution_count": 4,
   "metadata": {
    "collapsed": true
   },
   "outputs": [],
   "source": [
    "## the data is in a different repository gutengerg/data/counts\n",
    "path_read = '../../gutenberg/data/counts/'\n",
    "\n"
   ]
  },
  {
   "cell_type": "code",
   "execution_count": 33,
   "metadata": {
    "collapsed": true
   },
   "outputs": [],
   "source": [
    "fname_read = 'PG299_counts.txt'\n",
    "filename1 = os.path.join(path_read,fname_read)\n",
    "\n",
    "fname_read = 'PG304_counts.txt'\n",
    "filename2 = os.path.join(path_read,fname_read)\n"
   ]
  },
  {
   "cell_type": "code",
   "execution_count": 34,
   "metadata": {
    "collapsed": true
   },
   "outputs": [],
   "source": [
    "weights = False ## standard 1/2,1.2\n",
    "normalized = True ## 0<=divergence <=1\n",
    "\n",
    "arr_alpha = np.linspace(-5,5,100)\n",
    "arr_jsd = 0.0*arr_alpha\n",
    "arr_jsd = jsdalpha(filename1,filename2,alpha=arr_alpha,weights=weights,normalized=normalized)\n",
    "\n",
    "## note that for alpha, we can pass a float for a single value of alpha \n",
    "## or an array when measuring many values"
   ]
  },
  {
   "cell_type": "code",
   "execution_count": 35,
   "metadata": {},
   "outputs": [
    {
     "data": {
      "text/plain": [
       "[<matplotlib.lines.Line2D at 0x7fb51d454320>]"
      ]
     },
     "execution_count": 35,
     "metadata": {},
     "output_type": "execute_result"
    },
    {
     "data": {
      "image/png": "[encoded data removed]",
      "text/plain": [
       "<matplotlib.figure.Figure at 0x7fb51d4dcfd0>"
      ]
     },
     "metadata": {},
     "output_type": "display_data"
    }
   ],
   "source": [
    "plt.plot(arr_alpha,arr_jsd,marker='o')"
   ]
  },
  {
   "cell_type": "code",
   "execution_count": null,
   "metadata": {
    "collapsed": true
   },
   "outputs": [],
   "source": []
  },
  {
   "cell_type": "markdown",
   "metadata": {},
   "source": [
    "# A distribution of divergences"
   ]
  },
  {
   "cell_type": "code",
   "execution_count": 25,
   "metadata": {},
   "outputs": [],
   "source": [
    "## the list of all books\n",
    "list_filename = sorted(glob.glob(path_read+\"*.txt\"))"
   ]
  },
  {
   "cell_type": "code",
   "execution_count": 62,
   "metadata": {},
   "outputs": [],
   "source": [
    "## lets look at N pairs and calculate the distribution of jsd's\n",
    "N = 1000 ## 1000 pairs takes <=1min\n",
    "\n",
    "alpha = 1.0\n",
    "weights = False ## standard 1/2,1.2\n",
    "normalized = True ## 0<=divergence <=1\n",
    "\n",
    "\n",
    "list_jsd = []\n",
    "for i in range(N):\n",
    "    filename1,filename2 = np.random.choice(list_filename,size=2,replace=False)\n",
    "    jsd = jsdalpha(filename1,filename2,alpha=alpha,weights=weights,normalized=normalized)\n",
    "    list_jsd+=[jsd]"
   ]
  },
  {
   "cell_type": "code",
   "execution_count": 63,
   "metadata": {},
   "outputs": [
    {
     "data": {
      "text/plain": [
       "<matplotlib.text.Text at 0x7fb51ca52198>"
      ]
     },
     "execution_count": 63,
     "metadata": {},
     "output_type": "execute_result"
    },
    {
     "data": {
      "image/png": "[encoded data removed]",
      "text/plain": [
       "<matplotlib.figure.Figure at 0x7fb51ca7e978>"
      ]
     },
     "metadata": {},
     "output_type": "display_data"
    }
   ],
   "source": [
    "# plot the distribution of jsd-values\n",
    "\n",
    "bins = np.linspace(0.0,1.0,51)\n",
    "H,edges = np.histogram(list_jsd,bins=bins)\n",
    "H = np.append(0,H)\n",
    "\n",
    "plt.step(bins,H,where='post')\n",
    "plt.xlabel(r'$D_{\\alpha}$')\n",
    "plt.ylabel(r'$N( D_{\\alpha} )$')\n",
    "plt.title(r'$\\alpha = %.2f$ | $N = %s$ '%(alpha,N))"
   ]
  },
  {
   "cell_type": "code",
   "execution_count": null,
   "metadata": {},
   "outputs": [],
   "source": []
  },
  {
   "cell_type": "markdown",
   "metadata": {},
   "source": [
    "## An interesting observation\n",
    "\n",
    "'../../gutenberg/data/counts/PG8284_counts.txt' is empty, i.e. there are no counts in the file anymore.\n",
    "In this case, we always get JSD=1/2."
   ]
  },
  {
   "cell_type": "code",
   "execution_count": null,
   "metadata": {
    "collapsed": true
   },
   "outputs": [],
   "source": []
  }
 ],
 "metadata": {
  "kernelspec": {
   "display_name": "Python 3",
   "language": "python",
   "name": "python3"
  },
  "language_info": {
   "codemirror_mode": {
    "name": "ipython",
    "version": 3
   },
   "file_extension": ".py",
   "mimetype": "text/x-python",
   "name": "python",
   "nbconvert_exporter": "python",
   "pygments_lexer": "ipython3",
   "version": "3.6.1"
  }
 },
 "nbformat": 4,
 "nbformat_minor": 2
}
