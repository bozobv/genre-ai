{
 "cells": [
  {
   "cell_type": "code",
   "execution_count": 1,
   "metadata": {
    "collapsed": true
   },
   "outputs": [],
   "source": [
    "%load_ext autoreload\n",
    "%autoreload 2\n",
    "\n",
    "import numpy as np\n",
    "import os,sys\n",
    "import pylab as plt\n",
    "%matplotlib inline\n",
    "from pylab import get_cmap\n",
    "import glob\n"
   ]
  },
  {
   "cell_type": "code",
   "execution_count": 2,
   "metadata": {
    "collapsed": true
   },
   "outputs": [],
   "source": [
    "src_dir = '../src'\n",
    "sys.path.append(src_dir)\n",
    "from jsd import jsdalpha"
   ]
  },
  {
   "cell_type": "code",
   "execution_count": 3,
   "metadata": {
    "collapsed": true
   },
   "outputs": [],
   "source": [
    "src_meta = '../../gutenberg-frozen-2018-07-18/src/'\n",
    "sys.path.append(src_meta)\n",
    "from metaquery import meta_query\n"
   ]
  },
  {
   "cell_type": "code",
   "execution_count": 4,
   "metadata": {
    "collapsed": true
   },
   "outputs": [],
   "source": [
    "# Load meta data"
   ]
  },
  {
   "cell_type": "code",
   "execution_count": 14,
   "metadata": {
    "collapsed": true
   },
   "outputs": [],
   "source": [
    "meta=meta_query(path=src_meta+'../metadata/metadata.csv')\n"
   ]
  },
  {
   "cell_type": "markdown",
   "metadata": {},
   "source": [
    "# Find all books of a given language"
   ]
  },
  {
   "cell_type": "code",
   "execution_count": 6,
   "metadata": {
    "collapsed": true
   },
   "outputs": [],
   "source": [
    "meta.reset()"
   ]
  },
  {
   "cell_type": "code",
   "execution_count": 7,
   "metadata": {
    "collapsed": true
   },
   "outputs": [],
   "source": [
    "c_languages = meta.get_lang_counts()"
   ]
  },
  {
   "cell_type": "code",
   "execution_count": 8,
   "metadata": {
    "collapsed": true
   },
   "outputs": [],
   "source": [
    "arr_n = []\n",
    "arr_l = []\n",
    "for l,n in c_languages.most_common():\n",
    "    arr_n += [n]\n",
    "    arr_l += [l]\n",
    "arr_n = np.array(arr_n)\n",
    "arr_l = np.array(arr_l)"
   ]
  },
  {
   "cell_type": "code",
   "execution_count": 9,
   "metadata": {},
   "outputs": [
    {
     "data": {
      "text/plain": [
       "array([45282,  2830,  1875,  1618,   780,   714,   581,   550,   438,\n",
       "         219,   182,   173,   118,   113,    68,    60,    33,    31,\n",
       "          20,    19,    12,    10,     7,     6,     6,     6,     5,\n",
       "           5,     5,     4,     4,     3,     3,     3,     3,     3,\n",
       "           3,     2,     2,     2,     2,     2,     2,     2,     2,\n",
       "           2,     1,     1,     1,     1,     1,     1,     1,     1,\n",
       "           1,     1,     1,     1,     1,     1,     1,     1,     1,\n",
       "           1])"
      ]
     },
     "execution_count": 9,
     "metadata": {},
     "output_type": "execute_result"
    }
   ],
   "source": [
    "arr_n"
   ]
  },
  {
   "cell_type": "code",
   "execution_count": 10,
   "metadata": {},
   "outputs": [
    {
     "data": {
      "text/plain": [
       "array(['en', 'fr', 'fi', 'de', 'nl', 'it', 'es', 'pt', 'zh', 'el', 'sv',\n",
       "       'hu', 'eo', 'la', 'da', 'tl', 'ca', 'pl', 'ja', 'no', 'cy', 'cs',\n",
       "       'is', 'enm', 'fur', 'te', 'bg', 'he', 'ru', 'ang', 'af', 'nai',\n",
       "       'sr', 'nah', 'ilo', 'ceb', 'grc', 'ro', 'myn', 'ga', 'fy', 'mi',\n",
       "       'nav', 'arp', 'gla', 'brx', 'sa', 'ale', 'kha', 'ia', 'kld', 'oc',\n",
       "       'nap', 'gl', 'br', 'iu', 'bgs', 'csb', 'rmr', 'sl', 'oji', 'ar',\n",
       "       'et', 'fa'], dtype='<U3')"
      ]
     },
     "execution_count": 10,
     "metadata": {},
     "output_type": "execute_result"
    }
   ],
   "source": [
    "arr_l"
   ]
  },
  {
   "cell_type": "code",
   "execution_count": null,
   "metadata": {
    "collapsed": true
   },
   "outputs": [],
   "source": []
  },
  {
   "cell_type": "code",
   "execution_count": 37,
   "metadata": {},
   "outputs": [
    {
     "name": "stdout",
     "output_type": "stream",
     "text": [
      "en\n",
      "fr\n",
      "fi\n",
      "de\n",
      "nl\n",
      "it\n",
      "es\n",
      "pt\n",
      "zh\n",
      "el\n",
      "sv\n",
      "hu\n",
      "eo\n",
      "la\n",
      "da\n",
      "tl\n",
      "ca\n",
      "pl\n",
      "ja\n",
      "no\n",
      "cy\n",
      "cs\n",
      "is\n",
      "enm\n",
      "fur\n",
      "te\n",
      "bg\n",
      "he\n",
      "ru\n",
      "ang\n",
      "af\n",
      "nai\n",
      "sr\n",
      "nah\n",
      "ilo\n",
      "ceb\n",
      "grc\n",
      "ro\n",
      "myn\n",
      "ga\n",
      "fy\n",
      "mi\n",
      "nav\n",
      "arp\n",
      "gla\n",
      "brx\n",
      "sa\n",
      "ale\n",
      "kha\n",
      "ia\n",
      "kld\n",
      "oc\n",
      "nap\n",
      "gl\n",
      "br\n",
      "iu\n",
      "bgs\n",
      "csb\n",
      "rmr\n",
      "sl\n",
      "oji\n",
      "ar\n",
      "et\n",
      "fa\n"
     ]
    }
   ],
   "source": [
    "# i_l = 0\n",
    "# l = arr_l[i_l]\n",
    "path_text = os.path.abspath(os.path.join(src_meta,os.pardir,'data','counts'))\n",
    "\n",
    "list_n_tokens = []\n",
    "for i_l,l in enumerate(arr_l):\n",
    "    print(l)\n",
    "    n_tokens = 0\n",
    "    meta.reset()\n",
    "    meta.filter_lang(l)\n",
    "    list_books = meta.get_ids()\n",
    "    for pg_id in list_books:\n",
    "        filename = os.path.join(path_text,'%s_counts.txt'%(pg_id))\n",
    "        with open(filename) as f:\n",
    "            x = f.readlines()\n",
    "        if len(x)>1:\n",
    "            list_n = [int(h.split()[1]) for h in x]\n",
    "            N = sum(list_n)\n",
    "            n_tokens+=N\n",
    "    list_n_tokens += [n_tokens]\n"
   ]
  },
  {
   "cell_type": "code",
   "execution_count": 38,
   "metadata": {},
   "outputs": [
    {
     "data": {
      "text/plain": [
       "[2823723318,\n",
       " 169923386,\n",
       " 66732341,\n",
       " 71829281,\n",
       " 42796387,\n",
       " 42876256,\n",
       " 35617141,\n",
       " 13323772,\n",
       " 346926,\n",
       " 7684828,\n",
       " 7568272,\n",
       " 8528168,\n",
       " 2000935,\n",
       " 3556251,\n",
       " 3909339,\n",
       " 1007759,\n",
       " 1178446,\n",
       " 412504,\n",
       " 5341,\n",
       " 750424,\n",
       " 210188,\n",
       " 359439,\n",
       " 80045,\n",
       " 238227,\n",
       " 356390,\n",
       " 10253,\n",
       " 33278,\n",
       " 114523,\n",
       " 48897,\n",
       " 0,\n",
       " 150653,\n",
       " 0,\n",
       " 69261,\n",
       " 3172,\n",
       " 4817,\n",
       " 23728,\n",
       " 0,\n",
       " 209702,\n",
       " 7841,\n",
       " 112714,\n",
       " 24953,\n",
       " 3664,\n",
       " 0,\n",
       " 14632,\n",
       " 15314,\n",
       " 0,\n",
       " 1417,\n",
       " 0,\n",
       " 0,\n",
       " 6117,\n",
       " 0,\n",
       " 3820,\n",
       " 35629,\n",
       " 4846,\n",
       " 80022,\n",
       " 16310,\n",
       " 0,\n",
       " 0,\n",
       " 23309,\n",
       " 18211,\n",
       " 10974,\n",
       " 509,\n",
       " 11955,\n",
       " 21177]"
      ]
     },
     "execution_count": 38,
     "metadata": {},
     "output_type": "execute_result"
    }
   ],
   "source": [
    "list_n_tokens"
   ]
  },
  {
   "cell_type": "markdown",
   "metadata": {},
   "source": [
    "# Plot"
   ]
  },
  {
   "cell_type": "code",
   "execution_count": 39,
   "metadata": {},
   "outputs": [
    {
     "name": "stderr",
     "output_type": "stream",
     "text": [
      "/home/martin/anaconda3/lib/python3.6/site-packages/matplotlib/__init__.py:800: MatplotlibDeprecationWarning: text.fontsize is deprecated and replaced with font.size; please use the latter.\n",
      "  mplDeprecation)\n"
     ]
    }
   ],
   "source": [
    "###########\n",
    "## Setup ##\n",
    "###########\n",
    "# number of pt for column in latex-document\n",
    "fig_width_pt = 510  # single-column:510, double-column: 246; Get this from LaTeX using \\showthe\\columnwidth\n",
    "inches_per_pt = 1.1/72.27 # Convert pt to inches\n",
    "width_vs_height = (np.sqrt(5)-1.0)/2.0 # Ratio of height/width [(np.sqrt(5)-1.0)/2.0]\n",
    "fig_width = fig_width_pt*inches_per_pt  # width in inches\n",
    "fig_height = width_vs_height*fig_width  # height in inches\n",
    "fig_size = [fig_width,fig_height]\n",
    "\n",
    "# here you can set the parameters of the plot (fontsizes,...) in pt\n",
    "params = {'backend': 'ps',\n",
    "          'axes.titlesize':16,\n",
    "          'axes.labelsize': 14,\n",
    "          'text.fontsize': 12,\n",
    "          'legend.fontsize': 12,\n",
    "#           'figtext.fontsize': 12,\n",
    "          'xtick.labelsize': 12,\n",
    "          'ytick.labelsize': 12,\n",
    "          \n",
    "          'text.usetex': True,\n",
    "          'ps.usedistiller' : 'xpdf',\n",
    "          'figure.figsize': fig_size,\n",
    "          'text.latex.unicode':True,\n",
    "          'text.latex.preamble': [r'\\usepackage{bm}'],\n",
    "          \n",
    "          'xtick.direction':'out',\n",
    "          'ytick.direction':'out',\n",
    "          \n",
    "          'axes.spines.right' : False,\n",
    "          'axes.spines.top' : False\n",
    "         }\n",
    "plt.rcParams.update(params)"
   ]
  },
  {
   "cell_type": "code",
   "execution_count": 49,
   "metadata": {},
   "outputs": [
    {
     "data": {
      "image/png": "[encoded data removed]",
      "text/plain": [
       "<matplotlib.figure.Figure at 0x7fd0b6b6aac8>"
      ]
     },
     "metadata": {},
     "output_type": "display_data"
    }
   ],
   "source": [
    "## restrict to e.g. more than 10 books!\n",
    "## we could do the remaining in an inset\n",
    "\n",
    "indmax = 22#len(arr_n)\n",
    "\n",
    "\n",
    "\n",
    "# f=plt.figure(figsize = (10,20))\n",
    "f=plt.figure()\n",
    "ax=f.add_subplot(1,1,1)\n",
    "\n",
    "x = np.arange(indmax)\n",
    "y = arr_n[:indmax]\n",
    "z = arr_l[:indmax]\n",
    "ax.bar(x,y,width = 0.5,label='No. books')\n",
    "\n",
    "ax.set_xlabel(r'Language')\n",
    "ax.set_ylabel(r'$N$')\n",
    "\n",
    "ax.set_xticks(x)\n",
    "ax.set_xticklabels(z,rotation=45, ha='right')\n",
    "\n",
    "# ax.set_xlim(1500,2015)\n",
    "# ax.set_ylim(1,10**5)\n",
    "\n",
    "ax.set_ylim(1,10**5)\n",
    "# ax.set_xscale('log')\n",
    "ax.set_yscale('log')\n",
    "# plt.subplots_adjust(left=0.1,bottom=0.4)\n",
    "\n",
    "path_save = os.path.join(os.pardir,'figures')\n",
    "fname_save = 'basicstats-language.pdf'\n",
    "filename = os.path.join(path_save,fname_save)\n",
    "# plt.savefig(filename)"
   ]
  },
  {
   "cell_type": "code",
   "execution_count": 105,
   "metadata": {},
   "outputs": [
    {
     "name": "stderr",
     "output_type": "stream",
     "text": [
      "/home/martin/anaconda3/lib/python3.6/site-packages/matplotlib/__init__.py:800: MatplotlibDeprecationWarning: text.fontsize is deprecated and replaced with font.size; please use the latter.\n",
      "  mplDeprecation)\n"
     ]
    }
   ],
   "source": [
    "###########\n",
    "## Setup ##\n",
    "###########\n",
    "# number of pt for column in latex-document\n",
    "fig_width_pt = 510  # single-column:510, double-column: 246; Get this from LaTeX using \\showthe\\columnwidth\n",
    "inches_per_pt = 1.1/72.27 # Convert pt to inches\n",
    "width_vs_height = (np.sqrt(5)-1.0)/2.0 # Ratio of height/width [(np.sqrt(5)-1.0)/2.0]\n",
    "fig_width = fig_width_pt*inches_per_pt  # width in inches\n",
    "fig_height = width_vs_height*fig_width  # height in inches\n",
    "fig_size = [fig_width,fig_height]\n",
    "\n",
    "# here you can set the parameters of the plot (fontsizes,...) in pt\n",
    "params = {'backend': 'ps',\n",
    "          'axes.titlesize':16,\n",
    "          'axes.labelsize': 14,\n",
    "          'text.fontsize': 12,\n",
    "          'legend.fontsize': 12,\n",
    "#           'figtext.fontsize': 12,\n",
    "          'xtick.labelsize': 12,\n",
    "          'ytick.labelsize': 12,\n",
    "          \n",
    "          'text.usetex': True,\n",
    "          'ps.usedistiller' : 'xpdf',\n",
    "          'figure.figsize': fig_size,\n",
    "          'text.latex.unicode':True,\n",
    "          'text.latex.preamble': [r'\\usepackage{bm}'],\n",
    "          \n",
    "          'xtick.direction':'out',\n",
    "          'ytick.direction':'out',\n",
    "          \n",
    "          'axes.spines.right' : True,\n",
    "          'axes.spines.top' : False\n",
    "         }\n",
    "plt.rcParams.update(params)"
   ]
  },
  {
   "cell_type": "code",
   "execution_count": 106,
   "metadata": {
    "collapsed": true
   },
   "outputs": [],
   "source": [
    "from mpl_toolkits.axes_grid1 import host_subplot\n",
    "import mpl_toolkits.axisartist as AA"
   ]
  },
  {
   "cell_type": "code",
   "execution_count": 107,
   "metadata": {},
   "outputs": [
    {
     "data": {
      "image/png": "[encoded data removed]",
      "text/plain": [
       "<matplotlib.figure.Figure at 0x7fd0ac2e5b00>"
      ]
     },
     "metadata": {},
     "output_type": "display_data"
    }
   ],
   "source": [
    "## restrict to e.g. more than 10 books!\n",
    "## we could do the remaining in an inset\n",
    "\n",
    "indmax = 22#len(arr_n)\n",
    "cmap = get_cmap('tab10')\n",
    "\n",
    "\n",
    "# f=plt.figure(figsize = (10,20))\n",
    "f=plt.figure()\n",
    "ax=f.add_subplot(1,1,1)\n",
    "\n",
    "\n",
    "ax2 = ax.twinx()  # instantiate a second axes that shares the same x-axis\n",
    "\n",
    "\n",
    "\n",
    "\n",
    "\n",
    "c0 = cmap(0)\n",
    "x = np.arange(indmax)+0.2\n",
    "y = arr_n[:indmax]\n",
    "z = arr_l[:indmax]\n",
    "p1 =ax.bar(x,y,width = 0.3,label='No. books',color=c0)\n",
    "\n",
    "c1 = cmap(1)\n",
    "x = np.arange(indmax)+0.5\n",
    "y = list_n_tokens[:indmax]\n",
    "z = arr_l[:indmax]\n",
    "p2=ax2.bar(x,y,width = 0.3,label='No. tokens',color=c1)\n",
    "\n",
    "\n",
    "ax.set_xlabel(r'Language')\n",
    "ax.set_ylabel(r'No. books',color=c0)\n",
    "\n",
    "\n",
    "\n",
    "ax.set_xticks(x)\n",
    "ax.set_xticklabels(z,rotation=45, ha='right')\n",
    "\n",
    "# ax.set_xlim(1500,2015)\n",
    "# ax.set_ylim(1,10**5)\n",
    "\n",
    "ax.set_ylim(1,10**5)\n",
    "# ax.set_xscale('log')\n",
    "ax.set_yscale('log')\n",
    "\n",
    "ax2.set_ylim(1,10**10)\n",
    "# ax.set_xscale('log')\n",
    "ax2.set_yscale('log')\n",
    "\n",
    "\n",
    "ax2.set_ylabel('No. tokens',color=c1)\n",
    "ax2.set_ylim(10**0,10**10)\n",
    "\n",
    "\n",
    "\n",
    "plt.subplots_adjust(left=0.1,bottom=0.4)\n",
    "\n",
    "\n",
    "path_save = os.path.join(os.pardir,'figures')\n",
    "fname_save = 'basicstats-language-tokens.pdf'\n",
    "filename = os.path.join(path_save,fname_save)\n",
    "plt.savefig(filename)"
   ]
  },
  {
   "cell_type": "code",
   "execution_count": null,
   "metadata": {
    "collapsed": true
   },
   "outputs": [],
   "source": []
  }
 ],
 "metadata": {
  "kernelspec": {
   "display_name": "Python 3",
   "language": "python",
   "name": "python3"
  },
  "language_info": {
   "codemirror_mode": {
    "name": "ipython",
    "version": 3
   },
   "file_extension": ".py",
   "mimetype": "text/x-python",
   "name": "python",
   "nbconvert_exporter": "python",
   "pygments_lexer": "ipython3",
   "version": "3.6.6"
  }
 },
 "nbformat": 4,
 "nbformat_minor": 2
}
