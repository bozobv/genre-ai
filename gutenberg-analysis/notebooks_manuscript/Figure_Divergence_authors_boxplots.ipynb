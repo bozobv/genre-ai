{
 "cells": [
  {
   "cell_type": "code",
   "execution_count": 1,
   "metadata": {},
   "outputs": [],
   "source": [
    "%load_ext autoreload\n",
    "%autoreload 2\n",
    "\n",
    "import numpy as np\n",
    "import os,sys\n",
    "import pylab as plt\n",
    "%matplotlib inline\n",
    "from pylab import get_cmap\n",
    "import glob\n"
   ]
  },
  {
   "cell_type": "code",
   "execution_count": 2,
   "metadata": {
    "collapsed": true
   },
   "outputs": [],
   "source": [
    "src_dir = '../src'\n",
    "sys.path.append(src_dir)\n",
    "from jsd import jsdalpha"
   ]
  },
  {
   "cell_type": "code",
   "execution_count": 3,
   "metadata": {
    "collapsed": true
   },
   "outputs": [],
   "source": [
    "src_meta = '../../gutenberg/src/'\n",
    "sys.path.append(src_meta)\n",
    "from metaquery import meta_query\n"
   ]
  },
  {
   "cell_type": "code",
   "execution_count": 4,
   "metadata": {
    "collapsed": true
   },
   "outputs": [],
   "source": [
    "# Load meta data"
   ]
  },
  {
   "cell_type": "code",
   "execution_count": 5,
   "metadata": {
    "collapsed": true
   },
   "outputs": [],
   "source": [
    "meta=meta_query(path=src_meta+'../metadata/metadata.csv')"
   ]
  },
  {
   "cell_type": "markdown",
   "metadata": {},
   "source": [
    "# Selection of authors\n",
    "\n",
    "- get the authors of the 100 most downloaded books\n",
    "- filter some authors (e.g. 'Anonymous')\n",
    "- get the 20 authors with the most books"
   ]
  },
  {
   "cell_type": "code",
   "execution_count": 6,
   "metadata": {},
   "outputs": [],
   "source": [
    "## get the authors from the n most downloaded books\n",
    "\n",
    "meta.reset()\n",
    "meta.filter_lang('en',how='only')\n",
    "meta.filter_downloads(n=100)\n",
    "list_authors_preselect = list(set(list(meta.get_df()['author'].dropna())))"
   ]
  },
  {
   "cell_type": "code",
   "execution_count": 7,
   "metadata": {},
   "outputs": [],
   "source": [
    "# list_authors_preselect"
   ]
  },
  {
   "cell_type": "code",
   "execution_count": 8,
   "metadata": {},
   "outputs": [
    {
     "name": "stdout",
     "output_type": "stream",
     "text": [
      "Kafka, Franz 3\n",
      "Doyle, Arthur Conan 106\n",
      "Swift, Jonathan 26\n",
      "Thompson, Silvanus P. (Silvanus Phillips) 3\n",
      "Augustine, Saint, Bishop of Hippo 5\n",
      "Poe, Edgar Allan 29\n",
      "Stowe, Harriet Beecher 30\n",
      "Twain, Mark 201\n",
      "Stevenson, Robert Louis 89\n",
      "Du Bois, W. E. B. (William Edward Burghardt) 8\n",
      "Gilman, Charlotte Perkins 8\n",
      "Tolstoy, Leo, graf 47\n",
      "Blake, William 7\n",
      "Thoreau, Henry David 14\n",
      "Voltaire 20\n",
      "Nietzsche, Friedrich Wilhelm 27\n",
      "Hugo, Victor 18\n",
      "Whitman, Walt 11\n",
      "Conrad, Joseph 68\n",
      "Hobbes, Thomas 1\n",
      "Montaigne, Michel de 22\n",
      "Christie, Agatha 2\n",
      "James, Henry 80\n",
      "Collins, Wilkie 38\n",
      "Austen, Jane 23\n",
      "Carroll, Lewis 27\n",
      "Vatsyayana 1\n",
      "Barrie, J. M. (James Matthew) 30\n",
      "Ibsen, Henrik 18\n",
      "Marx, Karl 6\n",
      "Homer 40\n",
      "Dumas, Alexandre 60\n",
      "Cleland, John 2\n",
      "Shakespeare, William 193\n",
      "Shelley, Mary Wollstonecraft 11\n",
      "Wilde, Oscar 41\n",
      "Brontë, Emily 1\n",
      "Malory, Thomas, Sir 7\n",
      "Marcus Aurelius, Emperor of Rome 3\n",
      "Montgomery, L. M. (Lucy Maud) 25\n",
      "Cervantes Saavedra, Miguel de 51\n",
      "Franklin, Benjamin 14\n",
      "Defoe, Daniel 61\n",
      "Brontë, Charlotte 9\n",
      "Hesse, Hermann 1\n",
      "Speed, Harold 1\n",
      "Shaw, Bernard 46\n",
      "Melville, Herman 25\n",
      "Machiavelli, Niccolò 5\n",
      "Alcott, Louisa May 46\n",
      "Chopin, Kate 4\n",
      "Darwin, Charles 36\n",
      "Bierce, Ambrose 23\n",
      "Mill, John Stuart 14\n",
      "Dostoyevsky, Fyodor 14\n",
      "Madison, James 5\n",
      "Dante Alighieri 37\n",
      "Stoker, Bram 11\n",
      "Joyce, James 7\n",
      "Grimm, Wilhelm 7\n",
      "Babcock & Wilcox Company 1\n",
      "Wells, H. G. (Herbert George) 79\n",
      "Wharton, Edith 54\n",
      "Plato 35\n",
      "Baum, L. Frank (Lyman Frank) 92\n",
      "Dickens, Charles 144\n",
      "Flaubert, Gustave 14\n",
      "Douglass, Frederick 6\n",
      "Irving, Washington 25\n"
     ]
    }
   ],
   "source": [
    "## get number of books from all authors\n",
    "list_ignore = ['Anonymous']\n",
    "list_authors = []\n",
    "list_n = []\n",
    "Smax = -1 # maximum number of authors to consider\n",
    "nmin=0 # minimum number of books\n",
    "S = 0\n",
    "for author in list_authors_preselect:\n",
    "    meta.reset()\n",
    "    meta.filter_lang('en',how='only')\n",
    "    meta.filter_author(author)\n",
    "    list_pg_tmp = meta.get_ids()\n",
    "    n = len(list_pg_tmp)\n",
    "    if author not in list_ignore:\n",
    "        list_authors += [author]\n",
    "        list_n += [n]\n",
    "        print(author,n)\n"
   ]
  },
  {
   "cell_type": "code",
   "execution_count": 9,
   "metadata": {},
   "outputs": [
    {
     "name": "stdout",
     "output_type": "stream",
     "text": [
      "201 Twain, Mark\n",
      "193 Shakespeare, William\n",
      "144 Dickens, Charles\n",
      "106 Doyle, Arthur Conan\n",
      "92 Baum, L. Frank (Lyman Frank)\n",
      "89 Stevenson, Robert Louis\n",
      "80 James, Henry\n",
      "79 Wells, H. G. (Herbert George)\n",
      "68 Conrad, Joseph\n",
      "61 Defoe, Daniel\n",
      "60 Dumas, Alexandre\n",
      "54 Wharton, Edith\n",
      "51 Cervantes Saavedra, Miguel de\n",
      "47 Tolstoy, Leo, graf\n",
      "46 Shaw, Bernard\n",
      "46 Alcott, Louisa May\n",
      "41 Wilde, Oscar\n",
      "40 Homer\n",
      "38 Collins, Wilkie\n",
      "37 Dante Alighieri\n"
     ]
    }
   ],
   "source": [
    "## select 20 authors with the most books\n",
    "list_authors_sel = []\n",
    "Smax = 20\n",
    "S=0\n",
    "\n",
    "indsort = np.argsort(list_n)[::-1]\n",
    "for i in indsort:\n",
    "    print(list_n[i],list_authors[i])\n",
    "    list_authors_sel += [list_authors[i]]\n",
    "    S +=1\n",
    "    if S==Smax:\n",
    "        break"
   ]
  },
  {
   "cell_type": "code",
   "execution_count": 10,
   "metadata": {
    "collapsed": true
   },
   "outputs": [],
   "source": [
    "## get book ids\n",
    "list_books = []\n",
    "\n",
    "lang = 'en'\n",
    "for author in list_authors_sel:\n",
    "    meta.reset()\n",
    "    meta.filter_lang(lang,how='any')\n",
    "    meta.filter_author(author)\n",
    "    books_tmp = meta.get_ids()\n",
    "    list_books += [books_tmp]"
   ]
  },
  {
   "cell_type": "code",
   "execution_count": 14,
   "metadata": {},
   "outputs": [],
   "source": [
    "## calculate divergence\n",
    "alpha = 1.0\n",
    "Npair = 1000\n",
    "weights = False ## standard 1/2,1.2\n",
    "normalized = True ## 0<=divergence <=1\n",
    "\n",
    "path_read = '../../gutenberg/data/counts/'\n",
    "\n",
    "Na = len(list_authors_sel)\n",
    "\n",
    "arr_jsd_1 = np.zeros((Na,Npair))\n",
    "arr_jsd_2 = np.zeros((Na,Npair))\n",
    "\n",
    "for i_s,s in enumerate(list_authors_sel):\n",
    "    books_a=list_books[i_s]\n",
    "    books_na=[ h  for i_s2,s2 in enumerate(list_authors_sel) for h in list_books[i_s2] if i_s!=i_s2]\n",
    "    for i_Npair in range(Npair):\n",
    "        ## 1st book from the author\n",
    "        book_sel = True\n",
    "        while book_sel== True:\n",
    "            pg1, = np.random.choice(books_a,replace=False,size=1)\n",
    "            fname_read = '%s_counts.txt'%(pg1)\n",
    "            filename1 = os.path.join(path_read,fname_read)            \n",
    "            if os.path.isfile(filename1):\n",
    "                book_sel = False\n",
    "                \n",
    "        ## 2nd book: from the author - IN\n",
    "        book_sel = True\n",
    "        while book_sel== True:\n",
    "            pg2_in, = np.random.choice(books_a,replace=False,size=1)\n",
    "            fname_read = '%s_counts.txt'%(pg2_in)\n",
    "            filename2_in = os.path.join(path_read,fname_read)            \n",
    "            if os.path.isfile(filename2_in) and pg1!=pg2_in:\n",
    "                book_sel = False \n",
    "        ## 2nd book: NOT from the author - OUT\n",
    "        book_sel = True\n",
    "        while book_sel== True:\n",
    "            pg2_out, = np.random.choice(books_na,replace=False,size=1)\n",
    "            fname_read = '%s_counts.txt'%(pg2_out)\n",
    "            filename2_out = os.path.join(path_read,fname_read)            \n",
    "            if os.path.isfile(filename2_out) and pg1!=pg2_out:\n",
    "                book_sel = False        \n",
    "\n",
    "        jsd_1 = jsdalpha(filename1,filename2_in,alpha=alpha,weights=weights,normalized=normalized)\n",
    "        jsd_2 = jsdalpha(filename1,filename2_out,alpha=alpha,weights=weights,normalized=normalized)\n",
    "\n",
    "        arr_jsd_1[i_s,i_Npair] = jsd_1\n",
    "        arr_jsd_2[i_s,i_Npair] = jsd_2"
   ]
  },
  {
   "cell_type": "code",
   "execution_count": null,
   "metadata": {
    "collapsed": true
   },
   "outputs": [],
   "source": []
  },
  {
   "cell_type": "markdown",
   "metadata": {},
   "source": [
    "# Plot"
   ]
  },
  {
   "cell_type": "code",
   "execution_count": 126,
   "metadata": {},
   "outputs": [
    {
     "name": "stderr",
     "output_type": "stream",
     "text": [
      "/home/martin/anaconda3/lib/python3.6/site-packages/matplotlib/__init__.py:913: UserWarning: text.fontsize is deprecated and replaced with font.size; please use the latter.\n",
      "  warnings.warn(self.msg_depr % (key, alt_key))\n"
     ]
    }
   ],
   "source": [
    "###########\n",
    "## Setup ##\n",
    "###########\n",
    "# number of pt for column in latex-document\n",
    "fig_width_pt = 510  # single-column:510, double-column: 246; Get this from LaTeX using \\showthe\\columnwidth\n",
    "inches_per_pt = 1.1/72.27 # Convert pt to inches\n",
    "width_vs_height = (np.sqrt(5)-1.0)/2.0 # Ratio of height/width [(np.sqrt(5)-1.0)/2.0]\n",
    "fig_width = fig_width_pt*inches_per_pt  # width in inches\n",
    "fig_height = width_vs_height*fig_width  # height in inches\n",
    "fig_size = [fig_width,fig_height]\n",
    "\n",
    "# here you can set the parameters of the plot (fontsizes,...) in pt\n",
    "params = {'backend': 'ps',\n",
    "          'axes.titlesize':16,\n",
    "          'axes.labelsize': 14,\n",
    "          'text.fontsize': 12,\n",
    "          'legend.fontsize': 12,\n",
    "#           'figtext.fontsize': 12,\n",
    "          'xtick.labelsize': 12,\n",
    "          'ytick.labelsize': 12,\n",
    "          \n",
    "          'text.usetex': True,\n",
    "          'ps.usedistiller' : 'xpdf',\n",
    "          'figure.figsize': fig_size,\n",
    "          'text.latex.unicode':True,\n",
    "          'text.latex.preamble': [r'\\usepackage{bm}'],\n",
    "          \n",
    "          'xtick.direction':'out',\n",
    "          'ytick.direction':'out',\n",
    "          \n",
    "          'axes.spines.right' : False,\n",
    "          'axes.spines.top' : False\n",
    "         }\n",
    "plt.rcParams.update(params)"
   ]
  },
  {
   "cell_type": "code",
   "execution_count": 127,
   "metadata": {},
   "outputs": [
    {
     "data": {
      "image/png": "[encoded data removed]",
      "text/plain": [
       "<matplotlib.figure.Figure at 0x7f8f0b04f160>"
      ]
     },
     "metadata": {},
     "output_type": "display_data"
    }
   ],
   "source": [
    "\n",
    "# f=plt.figure(figsize = (10,20))\n",
    "f=plt.figure()\n",
    "ax=f.add_subplot(1,1,1)\n",
    "h=+0.275\n",
    "\n",
    "## across distances: large box\n",
    "x = np.arange(Na)+h\n",
    "bp1 =ax.boxplot(arr_jsd_2.T,positions=x,\n",
    "              vert=True,whis=[2.5,97.5],sym='',widths=0.15,patch_artist=True)\n",
    "color = str(0.8)\n",
    "for patch in bp1['boxes']:\n",
    "    patch.set_facecolor(color)\n",
    "\n",
    "## within distance\n",
    "x = np.arange(Na)\n",
    "bp2 =ax.boxplot(arr_jsd_1.T,positions=x,\n",
    "              vert=True,whis=[5,95],sym='',widths=0.3,patch_artist=True)\n",
    "color = 'lightgreen'\n",
    "for patch in bp2['boxes']:\n",
    "    patch.set_facecolor(color)\n",
    "\n",
    "## legend    \n",
    "ax.legend([bp2[\"boxes\"][0], bp1[\"boxes\"][0]], ['Same author', 'Different authors'],\n",
    "          bbox_to_anchor=(0.3,1.25),frameon=False)# bbox_to_anchor=(0.3,1.))\n",
    "\n",
    "\n",
    "import re\n",
    "list_labels = [h[:30] for h in list_authors_sel]\n",
    "ax.set_xticklabels(list_labels,rotation=45, ha='right')\n",
    "\n",
    "ax.set_ylim(0.,0.6)\n",
    "ax.set_ylabel(r'Divergence, $D$')\n",
    "# ax.set_ylabel('Author')\n",
    "\n",
    "plt.subplots_adjust(left=0.1,bottom=0.4)\n",
    "\n",
    "path_save = os.path.join(os.pardir,'figures')\n",
    "fname_save = 'divergence_authors.pdf'\n",
    "filename = os.path.join(path_save,fname_save)\n",
    "plt.savefig(filename)"
   ]
  },
  {
   "cell_type": "code",
   "execution_count": 112,
   "metadata": {
    "collapsed": true
   },
   "outputs": [],
   "source": []
  }
 ],
 "metadata": {
  "kernelspec": {
   "display_name": "Python 3",
   "language": "python",
   "name": "python3"
  },
  "language_info": {
   "codemirror_mode": {
    "name": "ipython",
    "version": 3
   },
   "file_extension": ".py",
   "mimetype": "text/x-python",
   "name": "python",
   "nbconvert_exporter": "python",
   "pygments_lexer": "ipython3",
   "version": "3.6.6"
  }
 },
 "nbformat": 4,
 "nbformat_minor": 2
}
