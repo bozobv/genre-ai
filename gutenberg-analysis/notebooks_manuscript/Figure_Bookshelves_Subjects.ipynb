{
 "cells": [
  {
   "cell_type": "code",
   "execution_count": 1,
   "metadata": {},
   "outputs": [],
   "source": [
    "import numpy as np\n",
    "import pandas as pd\n",
    "import glob\n",
    "\n",
    "from collections import Counter\n",
    "import matplotlib.pyplot as plt\n",
    "%matplotlib inline"
   ]
  },
  {
   "cell_type": "code",
   "execution_count": 3,
   "metadata": {},
   "outputs": [],
   "source": [
    "import matplotlib as mpl\n",
    "\n",
    "mpl.rcParams['axes.titlesize'] = 16\n",
    "mpl.rcParams['axes.labelsize'] = 12\n",
    "mpl.rcParams['legend.fontsize'] = 12\n",
    "mpl.rcParams['xtick.labelsize'] = 12\n",
    "mpl.rcParams['ytick.labelsize'] = 12\n",
    "mpl.rcParams['axes.spines.right'] = False\n",
    "mpl.rcParams['axes.spines.top'] = False"
   ]
  },
  {
   "cell_type": "code",
   "execution_count": 4,
   "metadata": {},
   "outputs": [
    {
     "data": {
      "image/png": "[encoded data removed]",
      "text/plain": [
       "<Figure size 720x72 with 1 Axes>"
      ]
     },
     "metadata": {
      "needs_background": "light"
     },
     "output_type": "display_data"
    }
   ],
   "source": [
    "import seaborn as sns\n",
    "sns.palplot(sns.color_palette())"
   ]
  },
  {
   "cell_type": "code",
   "execution_count": 4,
   "metadata": {},
   "outputs": [],
   "source": [
    "green = sns.color_palette()[2]\n",
    "red = sns.color_palette()[3]"
   ]
  },
  {
   "cell_type": "markdown",
   "metadata": {},
   "source": [
    "# PG Bookshelves\n",
    "We use PG bookshelves as labels, see here [here](http://www.gutenberg.org/wiki/Category:Bookshelf).\n",
    "This notebook shows in which sense BS are better than subjects.\n",
    "This notebook uses the bookshelves generated in the main `gutenberg` repo.\n",
    "For a more self-contained, older version, see `notebooks/old/Bookshelves_generation.ipynb`."
   ]
  },
  {
   "cell_type": "markdown",
   "metadata": {},
   "source": [
    "### Statistics before filtering BS"
   ]
  },
  {
   "cell_type": "code",
   "execution_count": 6,
   "metadata": {},
   "outputs": [],
   "source": [
    "df = pd.read_pickle(\"../../gutenberg-frozen-2018-07-18/metadata/bookshelves_raw.p\")"
   ]
  },
  {
   "cell_type": "code",
   "execution_count": 13,
   "metadata": {},
   "outputs": [],
   "source": [
    "import sys\n",
    "sys.path.append(\"../../gutenberg/src/\")\n",
    "from metaquery import meta_query\n",
    "mq = meta_query(path=\"../../gutenberg-frozen-2018-07-18/metadata/metadata.csv\", filter_exist=False)"
   ]
  },
  {
   "cell_type": "code",
   "execution_count": 14,
   "metadata": {},
   "outputs": [],
   "source": [
    "# restrict to books we have\n",
    "bookswehave = mq.df.id.values\n",
    "new_idx = (np.intersect1d(df.index, bookswehave))\n",
    "df = df.loc[new_idx]"
   ]
  },
  {
   "cell_type": "code",
   "execution_count": 15,
   "metadata": {},
   "outputs": [
    {
     "data": {
      "text/plain": [
       "(0, 236)"
      ]
     },
     "execution_count": 15,
     "metadata": {},
     "output_type": "execute_result"
    }
   ],
   "source": [
    "# how many books and bs\n",
    "df.shape"
   ]
  },
  {
   "cell_type": "code",
   "execution_count": null,
   "metadata": {},
   "outputs": [],
   "source": [
    "# how many books are part of how many bookshelves\n",
    "Counter(df.sum(axis=1))"
   ]
  },
  {
   "cell_type": "code",
   "execution_count": null,
   "metadata": {},
   "outputs": [],
   "source": [
    "x = np.array(list(list(zip(*sorted(list(Counter(df.sum(axis=1)).items()))))[1]))\n",
    "x = x/np.sum(x)"
   ]
  },
  {
   "cell_type": "code",
   "execution_count": null,
   "metadata": {},
   "outputs": [],
   "source": [
    "fig, (ax1, ax2) = plt.subplots(1, 2, figsize=(7, 2), tight_layout=True)\n",
    "color = green\n",
    "\n",
    "ax = ax2\n",
    "ax.barh(range(3)[::-1], [x[0], x[1], np.sum(x[2:])], color=color)\n",
    "ax.set_yticks(range(3))\n",
    "ax.set_yticklabels([\"in more than two\", \"in two bookshelves\", \"in one bookshelf\"])\n",
    "ax.set_xlabel(\"Percent of books\")\n",
    "ax.set_xlim(0, 1)\n",
    "ax.set_xticks([0, 0.25, 0.5, 0.75, 1][::2])\n",
    "ax.set_xticklabels([\"0%\", \"25%\", \"50%\", \"75%\", \"100%\"][::2])\n",
    "fig.savefig(\"../figures/bookshelves_per_book.pdf\")\n",
    "\n",
    "bs_sizes = df.sum().sort_values(ascending=False)\n",
    "\n",
    "bs_sizes = bs_sizes.loc[bs_sizes>4]\n",
    "\n",
    "ax = ax1\n",
    "bins = np.linspace(0.6, 3.2, num=20)\n",
    "ax.hist(np.log10(bs_sizes), bins=bins, color=color);\n",
    "xticks = [5, 20, 100, 500]\n",
    "ax.set_xticks([np.log10(x) for x in xticks])\n",
    "ax.set_xticklabels(xticks)\n",
    "ax.set_xlabel(\"Number of books\\nper bookshelf\")\n",
    "ax.set_ylabel(\"Number of\\nbookshelves\")\n",
    "fig.savefig(\"../figures/stats_bookshelf.pdf\")"
   ]
  },
  {
   "cell_type": "code",
   "execution_count": null,
   "metadata": {},
   "outputs": [],
   "source": [
    "list_subjects = [[k for k in h.strip(\"{}\")[1:-1].replace(\"', '\",\"_\").split('_')] for h in mq.df['subjects'].replace('set()',np.nan).dropna()]"
   ]
  },
  {
   "cell_type": "code",
   "execution_count": null,
   "metadata": {},
   "outputs": [],
   "source": [
    "subjects_per_book = mq.df['subjects'].replace('set()',np.nan).dropna().apply(lambda x:len([k for k in x.strip(\"{}\")[1:-1].replace(\"', '\",\"_\").split('_')])).values\n",
    "books_per_subject = list(mq.get_subjects_counts().values())"
   ]
  },
  {
   "cell_type": "code",
   "execution_count": null,
   "metadata": {},
   "outputs": [],
   "source": [
    "fig, (ax1, ax2) = plt.subplots(1, 2, figsize=(7, 2), tight_layout=True)\n",
    "color = red\n",
    "bins = np.linspace(0.6, 3.2, num=20)\n",
    "\n",
    "ax = ax1\n",
    "ax.hist(np.log10(books_per_subject), bins=bins, color=color);\n",
    "xticks = [5, 20, 100, 500]\n",
    "ax.set_xticks([np.log10(x) for x in xticks])\n",
    "ax.set_xticklabels(xticks)\n",
    "ax.set_xlabel(\"Number of books\\nper subject\")\n",
    "ax.set_ylabel(\"Number of\\nsubjects\")\n",
    "fig.savefig(\"../figures/books_per_subject.pdf\")\n",
    "\n",
    "x = np.array(list(list(zip(*sorted(list(Counter(subjects_per_book).items()))))[1]))\n",
    "x = x/np.sum(x)\n",
    "ax = ax2\n",
    "ax.barh(range(3)[::-1], [x[0], x[1], np.sum(x[2:])], color=red)\n",
    "ax.set_yticks(range(3))\n",
    "ax.set_yticklabels([\"in more than two\", \"in two subjects\", \"in one subject\"])\n",
    "ax.set_xlabel(\"Percent of books\",)\n",
    "ax.set_xlim(0, 1)\n",
    "ax.set_xticks([0, 0.5, 1])\n",
    "ax.set_xticklabels([\"0%\", \"50%\",  \"100%\"])\n",
    "fig.savefig(\"../figures/stats_subjects.pdf\")"
   ]
  },
  {
   "cell_type": "code",
   "execution_count": null,
   "metadata": {},
   "outputs": [],
   "source": []
  },
  {
   "cell_type": "code",
   "execution_count": null,
   "metadata": {},
   "outputs": [],
   "source": []
  },
  {
   "cell_type": "code",
   "execution_count": null,
   "metadata": {},
   "outputs": [],
   "source": []
  }
 ],
 "metadata": {
  "kernelspec": {
   "display_name": "Python 3",
   "language": "python",
   "name": "python3"
  },
  "language_info": {
   "codemirror_mode": {
    "name": "ipython",
    "version": 3
   },
   "file_extension": ".py",
   "mimetype": "text/x-python",
   "name": "python",
   "nbconvert_exporter": "python",
   "pygments_lexer": "ipython3",
   "version": "3.6.6"
  }
 },
 "nbformat": 4,
 "nbformat_minor": 2
}
