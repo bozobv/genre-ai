{
 "cells": [
  {
   "cell_type": "code",
   "execution_count": 1,
   "metadata": {
    "collapsed": true
   },
   "outputs": [],
   "source": [
    "%load_ext autoreload\n",
    "%autoreload 2\n",
    "\n",
    "import numpy as np\n",
    "import os,sys\n",
    "import pylab as plt\n",
    "%matplotlib inline\n",
    "from pylab import get_cmap\n",
    "import glob\n"
   ]
  },
  {
   "cell_type": "code",
   "execution_count": 2,
   "metadata": {
    "collapsed": true
   },
   "outputs": [],
   "source": [
    "src_dir = '../src'\n",
    "sys.path.append(src_dir)\n",
    "from jsd import jsdalpha"
   ]
  },
  {
   "cell_type": "code",
   "execution_count": 3,
   "metadata": {
    "collapsed": true
   },
   "outputs": [],
   "source": [
    "src_meta = '../../gutenberg-frozen-2018-07-18/src/'\n",
    "sys.path.append(src_meta)\n",
    "from metaquery import meta_query\n"
   ]
  },
  {
   "cell_type": "code",
   "execution_count": 4,
   "metadata": {
    "collapsed": true
   },
   "outputs": [],
   "source": [
    "# Load meta data"
   ]
  },
  {
   "cell_type": "code",
   "execution_count": 5,
   "metadata": {
    "collapsed": true
   },
   "outputs": [],
   "source": [
    "meta=meta_query(path=src_meta+'../metadata/metadata.csv')"
   ]
  },
  {
   "cell_type": "markdown",
   "metadata": {},
   "source": [
    "# Find all books of a given language"
   ]
  },
  {
   "cell_type": "code",
   "execution_count": 13,
   "metadata": {
    "collapsed": true
   },
   "outputs": [],
   "source": [
    "meta.reset()"
   ]
  },
  {
   "cell_type": "code",
   "execution_count": 8,
   "metadata": {},
   "outputs": [],
   "source": [
    "c_languages = meta.get_lang_counts()"
   ]
  },
  {
   "cell_type": "code",
   "execution_count": 9,
   "metadata": {},
   "outputs": [],
   "source": [
    "arr_n = []\n",
    "arr_l = []\n",
    "for l,n in c_languages.most_common():\n",
    "    arr_n += [n]\n",
    "    arr_l += [l]\n",
    "arr_n = np.array(arr_n)\n",
    "arr_l = np.array(arr_l)"
   ]
  },
  {
   "cell_type": "code",
   "execution_count": 10,
   "metadata": {},
   "outputs": [
    {
     "data": {
      "text/plain": [
       "array([45488,  2842,  1888,  1624,   781,   714,   585,   550,   438,\n",
       "         219,   184,   178,   118,   113,    68,    60,    33,    31,\n",
       "          20,    19,    12,    10,     7,     6,     6,     6,     5,\n",
       "           5,     5,     4,     4,     3,     3,     3,     3,     3,\n",
       "           3,     2,     2,     2,     2,     2,     2,     2,     2,\n",
       "           2,     1,     1,     1,     1,     1,     1,     1,     1,\n",
       "           1,     1,     1,     1,     1,     1,     1,     1,     1,     1])"
      ]
     },
     "execution_count": 10,
     "metadata": {},
     "output_type": "execute_result"
    }
   ],
   "source": [
    "arr_n"
   ]
  },
  {
   "cell_type": "code",
   "execution_count": 11,
   "metadata": {},
   "outputs": [
    {
     "data": {
      "text/plain": [
       "array(['en', 'fr', 'fi', 'de', 'nl', 'it', 'es', 'pt', 'zh', 'el', 'sv',\n",
       "       'hu', 'eo', 'la', 'da', 'tl', 'ca', 'pl', 'ja', 'no', 'cy', 'cs',\n",
       "       'is', 'enm', 'fur', 'te', 'bg', 'he', 'ru', 'ang', 'af', 'nai',\n",
       "       'sr', 'nah', 'ilo', 'ceb', 'grc', 'ro', 'myn', 'ga', 'fy', 'mi',\n",
       "       'nav', 'arp', 'gla', 'brx', 'sa', 'ale', 'kha', 'ia', 'kld', 'oc',\n",
       "       'nap', 'gl', 'br', 'iu', 'bgs', 'csb', 'rmr', 'sl', 'oji', 'ar',\n",
       "       'et', 'fa'], \n",
       "      dtype='<U3')"
      ]
     },
     "execution_count": 11,
     "metadata": {},
     "output_type": "execute_result"
    }
   ],
   "source": [
    "arr_l"
   ]
  },
  {
   "cell_type": "markdown",
   "metadata": {},
   "source": [
    "# Plot"
   ]
  },
  {
   "cell_type": "code",
   "execution_count": 12,
   "metadata": {},
   "outputs": [
    {
     "name": "stderr",
     "output_type": "stream",
     "text": [
      "/home/martin/anaconda3/lib/python3.6/site-packages/matplotlib/__init__.py:913: UserWarning: text.fontsize is deprecated and replaced with font.size; please use the latter.\n",
      "  warnings.warn(self.msg_depr % (key, alt_key))\n"
     ]
    }
   ],
   "source": [
    "###########\n",
    "## Setup ##\n",
    "###########\n",
    "# number of pt for column in latex-document\n",
    "fig_width_pt = 510  # single-column:510, double-column: 246; Get this from LaTeX using \\showthe\\columnwidth\n",
    "inches_per_pt = 1.1/72.27 # Convert pt to inches\n",
    "width_vs_height = (np.sqrt(5)-1.0)/2.0 # Ratio of height/width [(np.sqrt(5)-1.0)/2.0]\n",
    "fig_width = fig_width_pt*inches_per_pt  # width in inches\n",
    "fig_height = width_vs_height*fig_width  # height in inches\n",
    "fig_size = [fig_width,fig_height]\n",
    "\n",
    "# here you can set the parameters of the plot (fontsizes,...) in pt\n",
    "params = {'backend': 'ps',\n",
    "          'axes.titlesize':16,\n",
    "          'axes.labelsize': 14,\n",
    "          'text.fontsize': 12,\n",
    "          'legend.fontsize': 12,\n",
    "#           'figtext.fontsize': 12,\n",
    "          'xtick.labelsize': 12,\n",
    "          'ytick.labelsize': 12,\n",
    "          \n",
    "          'text.usetex': True,\n",
    "          'ps.usedistiller' : 'xpdf',\n",
    "          'figure.figsize': fig_size,\n",
    "          'text.latex.unicode':True,\n",
    "          'text.latex.preamble': [r'\\usepackage{bm}'],\n",
    "          \n",
    "          'xtick.direction':'out',\n",
    "          'ytick.direction':'out',\n",
    "          \n",
    "          'axes.spines.right' : False,\n",
    "          'axes.spines.top' : False\n",
    "         }\n",
    "plt.rcParams.update(params)"
   ]
  },
  {
   "cell_type": "code",
   "execution_count": 37,
   "metadata": {},
   "outputs": [
    {
     "data": {
      "image/png": "[encoded data removed]",
      "text/plain": [
       "<matplotlib.figure.Figure at 0x7f90480d3be0>"
      ]
     },
     "metadata": {},
     "output_type": "display_data"
    }
   ],
   "source": [
    "## restrict to e.g. more than 10 books!\n",
    "## we could do the remaining in an inset\n",
    "\n",
    "indmax = 22#len(arr_n)\n",
    "\n",
    "x = np.arange(indmax)\n",
    "y = arr_n[:indmax]\n",
    "z = arr_l[:indmax]\n",
    "\n",
    "# f=plt.figure(figsize = (10,20))\n",
    "f=plt.figure()\n",
    "ax=f.add_subplot(1,1,1)\n",
    "\n",
    "\n",
    "ax.bar(x,y,width = 0.5)\n",
    "ax.set_xlabel(r'Language')\n",
    "ax.set_ylabel(r'$N$')\n",
    "\n",
    "ax.set_xticks(x)\n",
    "ax.set_xticklabels(z,rotation=45, ha='right')\n",
    "\n",
    "# ax.set_xlim(1500,2015)\n",
    "# ax.set_ylim(1,10**5)\n",
    "\n",
    "ax.set_ylim(1,10**5)\n",
    "# ax.set_xscale('log')\n",
    "ax.set_yscale('log')\n",
    "# plt.subplots_adjust(left=0.1,bottom=0.4)\n",
    "\n",
    "path_save = os.path.join(os.pardir,'figures')\n",
    "fname_save = 'basicstats-language.pdf'\n",
    "filename = os.path.join(path_save,fname_save)\n",
    "plt.savefig(filename)"
   ]
  },
  {
   "cell_type": "code",
   "execution_count": null,
   "metadata": {
    "collapsed": true
   },
   "outputs": [],
   "source": []
  }
 ],
 "metadata": {
  "kernelspec": {
   "display_name": "Python 3",
   "language": "python",
   "name": "python3"
  },
  "language_info": {
   "codemirror_mode": {
    "name": "ipython",
    "version": 3
   },
   "file_extension": ".py",
   "mimetype": "text/x-python",
   "name": "python",
   "nbconvert_exporter": "python",
   "pygments_lexer": "ipython3",
   "version": "3.6.6"
  }
 },
 "nbformat": 4,
 "nbformat_minor": 2
}
